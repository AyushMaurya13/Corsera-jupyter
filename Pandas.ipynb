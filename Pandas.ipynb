{
 "cells": [
  {
   "cell_type": "markdown",
   "id": "cf0703db-a5d3-4616-be88-17bab26b1412",
   "metadata": {},
   "source": [
    "# Selecting data in DataFrame"
   ]
  },
  {
   "cell_type": "markdown",
   "id": "2ce522b2-f8b7-407e-8d80-8a7ed028c208",
   "metadata": {},
   "source": [
    "### Exercise 1: Pandas: DataFrame and Series"
   ]
  },
  {
   "cell_type": "markdown",
   "id": "3c7ddb43-ee19-4ba8-b640-75252c3583e2",
   "metadata": {},
   "source": [
    "_Pandas_ is a popular library for data analysis built on top of the Python programming language. Pandas generally provide two data structures for manipulating data, They are:\n",
    "\n",
    "* DataFrame\n",
    "* Series"
   ]
  },
  {
   "cell_type": "markdown",
   "id": "35cab27e-2b5a-49d7-a0f8-660d2c664929",
   "metadata": {},
   "source": [
    "A __ DataFrame __ is a two-dimensional data structure, i.e., data is aligned in a tabular fashion in rows and columns."
   ]
  },
  {
   "cell_type": "markdown",
   "id": "756f5c13-48cc-4b82-8d6f-7a83bd0767e2",
   "metadata": {},
   "source": [
    "* A Pandas DataFrame will be created by loading the datasets from existing storage.\n",
    "* Storage can be SQL Database, CSV file, Excel file, etc.\n",
    "* It can also be created from the lists, dictionaries, and from a list of dictionaries."
   ]
  },
  {
   "cell_type": "markdown",
   "id": "11b06518-42e8-4916-aacf-86128e121228",
   "metadata": {},
   "source": [
    "_Series_ represents a one-dimensional array of indexed data. It has two main components :"
   ]
  },
  {
   "cell_type": "markdown",
   "id": "c01a89b0-099f-4b84-9d14-93525f4538d7",
   "metadata": {},
   "source": [
    "1. An array of actual data.\n",
    "2. An associated array of indexes or data labels.\n",
    "_The index is used to access individual data values. You can also get a column of a dataframe as a Series. You can think of a Pandas series as a 1-D dataframe._"
   ]
  },
  {
   "cell_type": "markdown",
   "id": "4b108814-83b3-4086-ae36-3e9e8bdeda76",
   "metadata": {},
   "source": [
    "#### In this practice lab, we will learn how to create a DataFrame out of a dictionary."
   ]
  },
  {
   "cell_type": "markdown",
   "id": "ba333c2f-e0a0-4877-ba2c-7521d005ffe3",
   "metadata": {},
   "source": [
    "We then create a dataframe from the dictionary using the function pd.DataFrame(dict)"
   ]
  },
  {
   "cell_type": "code",
   "execution_count": 4,
   "id": "3681650a-fe84-4144-b67d-fcb52d9d6365",
   "metadata": {},
   "outputs": [
    {
     "data": {
      "text/html": [
       "<div>\n",
       "<style scoped>\n",
       "    .dataframe tbody tr th:only-of-type {\n",
       "        vertical-align: middle;\n",
       "    }\n",
       "\n",
       "    .dataframe tbody tr th {\n",
       "        vertical-align: top;\n",
       "    }\n",
       "\n",
       "    .dataframe thead th {\n",
       "        text-align: right;\n",
       "    }\n",
       "</style>\n",
       "<table border=\"1\" class=\"dataframe\">\n",
       "  <thead>\n",
       "    <tr style=\"text-align: right;\">\n",
       "      <th></th>\n",
       "      <th>Name</th>\n",
       "      <th>ID</th>\n",
       "      <th>Department</th>\n",
       "      <th>Salary</th>\n",
       "    </tr>\n",
       "  </thead>\n",
       "  <tbody>\n",
       "    <tr>\n",
       "      <th>0</th>\n",
       "      <td>Rose</td>\n",
       "      <td>1</td>\n",
       "      <td>Architect Group</td>\n",
       "      <td>100000</td>\n",
       "    </tr>\n",
       "    <tr>\n",
       "      <th>1</th>\n",
       "      <td>John</td>\n",
       "      <td>2</td>\n",
       "      <td>Software Group</td>\n",
       "      <td>80000</td>\n",
       "    </tr>\n",
       "    <tr>\n",
       "      <th>2</th>\n",
       "      <td>Jane</td>\n",
       "      <td>3</td>\n",
       "      <td>Design Team</td>\n",
       "      <td>50000</td>\n",
       "    </tr>\n",
       "    <tr>\n",
       "      <th>3</th>\n",
       "      <td>Mary</td>\n",
       "      <td>4</td>\n",
       "      <td>Infrastructure</td>\n",
       "      <td>60000</td>\n",
       "    </tr>\n",
       "  </tbody>\n",
       "</table>\n",
       "</div>"
      ],
      "text/plain": [
       "   Name  ID       Department  Salary\n",
       "0  Rose   1  Architect Group  100000\n",
       "1  John   2   Software Group   80000\n",
       "2  Jane   3      Design Team   50000\n",
       "3  Mary   4   Infrastructure   60000"
      ]
     },
     "execution_count": 4,
     "metadata": {},
     "output_type": "execute_result"
    }
   ],
   "source": [
    "#Define a dictionary 'x'\n",
    "import pandas as pd\n",
    "\n",
    "x = {'Name': ['Rose','John', 'Jane', 'Mary'], 'ID': [1, 2, 3, 4], 'Department': ['Architect Group', 'Software Group', 'Design Team', 'Infrastructure'], \n",
    "      'Salary':[100000, 80000, 50000, 60000]}\n",
    "\n",
    "#casting the dictionary to a DataFrame\n",
    "df = pd.DataFrame(x)\n",
    "\n",
    "#display the result df\n",
    "df"
   ]
  },
  {
   "cell_type": "markdown",
   "id": "7a42a591-c8c2-4346-839f-702edc170a4b",
   "metadata": {},
   "source": [
    "#### Column Selection:\n",
    "To select a column in Pandas DataFrame, we can either access the columns by calling them by their columns name.\n",
    "\n",
    "Let's Retrieve the data present in the ID column."
   ]
  },
  {
   "cell_type": "code",
   "execution_count": 5,
   "id": "c3da06c6-1c0c-4eef-b1d3-97ef3a32269b",
   "metadata": {},
   "outputs": [
    {
     "data": {
      "text/html": [
       "<div>\n",
       "<style scoped>\n",
       "    .dataframe tbody tr th:only-of-type {\n",
       "        vertical-align: middle;\n",
       "    }\n",
       "\n",
       "    .dataframe tbody tr th {\n",
       "        vertical-align: top;\n",
       "    }\n",
       "\n",
       "    .dataframe thead th {\n",
       "        text-align: right;\n",
       "    }\n",
       "</style>\n",
       "<table border=\"1\" class=\"dataframe\">\n",
       "  <thead>\n",
       "    <tr style=\"text-align: right;\">\n",
       "      <th></th>\n",
       "      <th>ID</th>\n",
       "    </tr>\n",
       "  </thead>\n",
       "  <tbody>\n",
       "    <tr>\n",
       "      <th>0</th>\n",
       "      <td>1</td>\n",
       "    </tr>\n",
       "    <tr>\n",
       "      <th>1</th>\n",
       "      <td>2</td>\n",
       "    </tr>\n",
       "    <tr>\n",
       "      <th>2</th>\n",
       "      <td>3</td>\n",
       "    </tr>\n",
       "    <tr>\n",
       "      <th>3</th>\n",
       "      <td>4</td>\n",
       "    </tr>\n",
       "  </tbody>\n",
       "</table>\n",
       "</div>"
      ],
      "text/plain": [
       "   ID\n",
       "0   1\n",
       "1   2\n",
       "2   3\n",
       "3   4"
      ]
     },
     "execution_count": 5,
     "metadata": {},
     "output_type": "execute_result"
    }
   ],
   "source": [
    "#Retrieving the \"ID\" column and assigning it to a variable x\n",
    "x = df[['ID']]\n",
    "x"
   ]
  },
  {
   "cell_type": "markdown",
   "id": "60ced44c-7cdd-409d-9f58-f53bdce4a15e",
   "metadata": {},
   "source": [
    "##### Access to multiple columns\n",
    "Let us retrieve the data for Department, Salary and ID columns"
   ]
  },
  {
   "cell_type": "code",
   "execution_count": 6,
   "id": "b1154450-68ab-41c2-9995-9bb664230e60",
   "metadata": {},
   "outputs": [
    {
     "name": "stdout",
     "output_type": "stream",
     "text": [
      "        Department  ID  Salary\n",
      "0  Architect Group   1  100000\n",
      "1   Software Group   2   80000\n",
      "2      Design Team   3   50000\n",
      "3   Infrastructure   4   60000\n"
     ]
    }
   ],
   "source": [
    "z= df[[\"Department\",\"ID\",\"Salary\"]] # Double Squre Bracket for 2-D\n",
    "print(z)"
   ]
  },
  {
   "cell_type": "markdown",
   "id": "2d900563-e915-4a82-a9bd-0cf951c822c2",
   "metadata": {},
   "source": [
    "#### Try by myself"
   ]
  },
  {
   "cell_type": "code",
   "execution_count": 4,
   "id": "6a95972f-53ad-41c4-9e12-f54170954497",
   "metadata": {},
   "outputs": [
    {
     "data": {
      "text/html": [
       "<div>\n",
       "<style scoped>\n",
       "    .dataframe tbody tr th:only-of-type {\n",
       "        vertical-align: middle;\n",
       "    }\n",
       "\n",
       "    .dataframe tbody tr th {\n",
       "        vertical-align: top;\n",
       "    }\n",
       "\n",
       "    .dataframe thead th {\n",
       "        text-align: right;\n",
       "    }\n",
       "</style>\n",
       "<table border=\"1\" class=\"dataframe\">\n",
       "  <thead>\n",
       "    <tr style=\"text-align: right;\">\n",
       "      <th></th>\n",
       "      <th>Student</th>\n",
       "      <th>Age</th>\n",
       "      <th>Country</th>\n",
       "      <th>Course</th>\n",
       "      <th>Marks</th>\n",
       "    </tr>\n",
       "  </thead>\n",
       "  <tbody>\n",
       "    <tr>\n",
       "      <th>0</th>\n",
       "      <td>David</td>\n",
       "      <td>27</td>\n",
       "      <td>UK</td>\n",
       "      <td>Python</td>\n",
       "      <td>85</td>\n",
       "    </tr>\n",
       "    <tr>\n",
       "      <th>1</th>\n",
       "      <td>Samual</td>\n",
       "      <td>24</td>\n",
       "      <td>INDIA</td>\n",
       "      <td>Data Structure</td>\n",
       "      <td>72</td>\n",
       "    </tr>\n",
       "    <tr>\n",
       "      <th>2</th>\n",
       "      <td>Terry</td>\n",
       "      <td>22</td>\n",
       "      <td>China</td>\n",
       "      <td>Machine Learning</td>\n",
       "      <td>89</td>\n",
       "    </tr>\n",
       "    <tr>\n",
       "      <th>3</th>\n",
       "      <td>Evan</td>\n",
       "      <td>32</td>\n",
       "      <td>USA</td>\n",
       "      <td>Web Development</td>\n",
       "      <td>76</td>\n",
       "    </tr>\n",
       "  </tbody>\n",
       "</table>\n",
       "</div>"
      ],
      "text/plain": [
       "  Student  Age Country            Course  Marks\n",
       "0   David   27      UK            Python     85\n",
       "1  Samual   24   INDIA    Data Structure     72\n",
       "2   Terry   22   China  Machine Learning     89\n",
       "3    Evan   32     USA   Web Development     76"
      ]
     },
     "execution_count": 4,
     "metadata": {},
     "output_type": "execute_result"
    }
   ],
   "source": [
    "import pandas as pd\n",
    "student_record = {\n",
    "    \"Student\":[\"David\",\"Samual\",\"Terry\",\"Evan\"],\n",
    "    \"Age\":[27,24,22,32],\n",
    "    \"Country\":[\"UK\",\"INDIA\",\"China\",\"USA\"],\n",
    "    \"Course\":[\"Python\",\"Data Structure\",\"Machine Learning\",\"Web Development\"],\n",
    "    \"Marks\":[85,72,89,76]\n",
    "}\n",
    "\n",
    "print_record = pd.DataFrame(student_record)\n",
    "print_record\n",
    "\n",
    "\n",
    "    "
   ]
  },
  {
   "cell_type": "markdown",
   "id": "40fd1116-451b-4064-b379-fa78500bdcb9",
   "metadata": {},
   "source": [
    "\n",
    "##### Problem 2: Retrieve the Marks column and assign it to a variable b"
   ]
  },
  {
   "cell_type": "code",
   "execution_count": null,
   "id": "d4fe6e12-b3f2-4750-b5be-102045f10d2d",
   "metadata": {},
   "outputs": [],
   "source": [
    "b = df[['Marks']]\n",
    "b"
   ]
  },
  {
   "cell_type": "markdown",
   "id": "efbc8eea-c84c-4560-bda0-5f0612c3f3fc",
   "metadata": {},
   "source": [
    "\n",
    "##### Problem 3: Retrieve the Country and Course columns and assign it to a variable c"
   ]
  },
  {
   "cell_type": "code",
   "execution_count": null,
   "id": "0cc1f009-3788-461b-8039-7e5559f82007",
   "metadata": {},
   "outputs": [],
   "source": [
    "c = df2[['Country','Course']]\n",
    "c"
   ]
  },
  {
   "cell_type": "markdown",
   "id": "c14fc06e-682b-4e6b-811c-0ffbaac76edb",
   "metadata": {},
   "source": [
    "##### To view the column as a series, just use one bracket:"
   ]
  },
  {
   "cell_type": "code",
   "execution_count": 1,
   "id": "b752edab-b727-4e28-b8c0-686e4e73dca6",
   "metadata": {},
   "outputs": [
    {
     "ename": "NameError",
     "evalue": "name 'DataFrame' is not defined",
     "output_type": "error",
     "traceback": [
      "\u001b[1;31m---------------------------------------------------------------------------\u001b[0m",
      "\u001b[1;31mNameError\u001b[0m                                 Traceback (most recent call last)",
      "Cell \u001b[1;32mIn[1], line 1\u001b[0m\n\u001b[1;32m----> 1\u001b[0m x \u001b[38;5;241m=\u001b[39m \u001b[43mDataFrame\u001b[49m[[\u001b[38;5;124m\"\u001b[39m\u001b[38;5;124mStudent\u001b[39m\u001b[38;5;124m\"\u001b[39m]]\n\u001b[0;32m      2\u001b[0m x\u001b[38;5;241m.\u001b[39mSeries()\n\u001b[0;32m      3\u001b[0m x\n",
      "\u001b[1;31mNameError\u001b[0m: name 'DataFrame' is not defined"
     ]
    }
   ],
   "source": [
    "x = DataFrame[[\"Student\"]]\n",
    "x.Series()\n",
    "x"
   ]
  },
  {
   "cell_type": "markdown",
   "id": "941443d8-1e73-49f5-bd00-3579ab8302a1",
   "metadata": {},
   "source": [
    "#### Exercise 2: loc() and iloc() functions"
   ]
  },
  {
   "cell_type": "markdown",
   "id": "092dbdbe-d8c5-409c-8526-8f938cca02bb",
   "metadata": {},
   "source": [
    "1. loc() is a label-based data selecting method which means that we have to pass the name of the row or column that we want to select. This method includes the last element of the range passed in it.\n",
    "\n",
    "Simple syntax for your understanding:\n",
    "\n",
    "* loc[row_label, column_label]\n",
    "2. iloc() is an indexed-based selecting method which means that we have to pass an integer index in the method to select a specific row/column. This method does not include the last element of the range passed in it.\n",
    "\n",
    "Simple syntax for your understanding:\n",
    "\n",
    "* iloc[row_index, column_index]"
   ]
  },
  {
   "cell_type": "code",
   "execution_count": null,
   "id": "673376b0-d23f-4b95-9c10-e4e8669270a6",
   "metadata": {},
   "outputs": [],
   "source": [
    "# Access the value on the first row and the first column\n",
    "\n",
    "df.iloc[0, 0]"
   ]
  },
  {
   "cell_type": "code",
   "execution_count": null,
   "id": "1adc1ff5-580e-4dc6-be4d-a8859e9a7045",
   "metadata": {},
   "outputs": [],
   "source": [
    "# Access the column using the name\n",
    "\n",
    "df.loc[0, 'Salary']"
   ]
  },
  {
   "cell_type": "markdown",
   "id": "17260db1-863d-4228-bce7-1cc543fee4f7",
   "metadata": {},
   "source": [
    "Let us create a new dataframe called 'df2' and assign 'df' to it. Now, let us set the \"Name\" column as an index column using the method set_index()."
   ]
  },
  {
   "cell_type": "code",
   "execution_count": null,
   "id": "3c0a1ae8-87bd-4e9e-adb8-d856ae51c99d",
   "metadata": {},
   "outputs": [],
   "source": [
    "df2=df # create a seperate dataset with same name data\n",
    "df2=df2.set_index(\"Name\")"
   ]
  },
  {
   "cell_type": "code",
   "execution_count": null,
   "id": "7a63e2b0-8a4c-4326-abde-cbc8d8b23500",
   "metadata": {},
   "outputs": [],
   "source": [
    "#To display the first 5 rows of new dataframe\n",
    "df2.head()"
   ]
  },
  {
   "cell_type": "code",
   "execution_count": null,
   "id": "f435fd5d-442d-45b5-b052-fdea5d6118e2",
   "metadata": {},
   "outputs": [],
   "source": [
    "#Now, let us access the column using the name\n",
    "df2.loc['Jane', 'Salary']"
   ]
  },
  {
   "cell_type": "markdown",
   "id": "73ec80e5-3b40-4e8a-b6dc-5df492fcbb52",
   "metadata": {},
   "source": [
    "# Loading Data with Pandas "
   ]
  },
  {
   "cell_type": "markdown",
   "id": "30b21d5e-f8ff-4545-8bc7-79b4b63be05e",
   "metadata": {},
   "source": [
    "\n",
    "After the import command, we now have access to a large number of pre-built classes and functions. This assumes the library is installed; in our lab environment all the necessary libraries are installed. One way pandas allows you to work with data is a dataframe. Let's go through the process to go from a comma separated values (.csv) file to a dataframe. This variable csv_path stores the path of the .csv, that is used as an argument to the read_csv function. The result is stored in the object df, this is a common short form used for a variable referring to a Pandas dataframe."
   ]
  },
  {
   "cell_type": "code",
   "execution_count": null,
   "id": "9bb5b8be-c794-44ba-97cb-bfecc5578c31",
   "metadata": {},
   "outputs": [],
   "source": [
    "# extract unique vlaue\n",
    "df['Marks'].unique()\n",
    "# print all unique element"
   ]
  },
  {
   "cell_type": "code",
   "execution_count": null,
   "id": "e5dbb86e-ab1e-4d86-b9b4-ce8d30c42b25",
   "metadata": {},
   "outputs": [],
   "source": [
    "# Save as csv \n",
    "df.to_csv('file of.csv')\n"
   ]
  },
  {
   "cell_type": "code",
   "execution_count": null,
   "id": "31423627-be4f-49c8-bc6b-860eb0bf5ee6",
   "metadata": {},
   "outputs": [],
   "source": [
    "print(df[2])     # Access the element with label 2 (value 30)"
   ]
  },
  {
   "cell_type": "code",
   "execution_count": null,
   "id": "4e069412-bd87-4079-9bff-e92f7b0a476a",
   "metadata": {},
   "outputs": [],
   "source": [
    "print(s.iloc[3]) # Access the element at position 3 (value 40)"
   ]
  },
  {
   "cell_type": "code",
   "execution_count": null,
   "id": "0271c2df-7fff-4d57-bee8-cb212ebf57a3",
   "metadata": {},
   "outputs": [],
   "source": [
    "print(s[1:4])   # Access a range of elements by label"
   ]
  },
  {
   "cell_type": "markdown",
   "id": "4923962a-dd34-4bd7-9321-1aaf8940c9b9",
   "metadata": {},
   "source": [
    "* values: Returns the Series data as a NumPy array.\n",
    "* index: Returns the index (labels) of the Series.\n",
    "* shape: Returns a tuple representing the dimensions of the Series.\n",
    "* size: Returns the number of elements in the Series.\n",
    "* mean(), sum(), min(), max(): Calculate summary statistics of the data.\n",
    "* unique(), nunique(): Get unique values or the number of unique values.\n",
    "* sort_values(), sort_index(): Sort the Series by values or index labels.\n",
    "* isnull(), notnull(): Check for missing (NaN) or non-missing values.\n",
    "* apply(): Apply a custom function to each element of the Series."
   ]
  },
  {
   "cell_type": "code",
   "execution_count": null,
   "id": "3966fc5d-8278-4a35-b894-23bb1857aa2c",
   "metadata": {},
   "outputs": [],
   "source": []
  }
 ],
 "metadata": {
  "kernelspec": {
   "display_name": "Python 3 (ipykernel)",
   "language": "python",
   "name": "python3"
  },
  "language_info": {
   "codemirror_mode": {
    "name": "ipython",
    "version": 3
   },
   "file_extension": ".py",
   "mimetype": "text/x-python",
   "name": "python",
   "nbconvert_exporter": "python",
   "pygments_lexer": "ipython3",
   "version": "3.12.6"
  }
 },
 "nbformat": 4,
 "nbformat_minor": 5
}

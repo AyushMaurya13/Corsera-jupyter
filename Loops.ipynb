{
 "cells": [
  {
   "cell_type": "markdown",
   "id": "453f04ad-9cc9-4c9d-9753-247fea032933",
   "metadata": {},
   "source": [
    "# Loops in Python"
   ]
  },
  {
   "cell_type": "markdown",
   "id": "5dd50839-8301-4414-9a26-bddc014f77f2",
   "metadata": {},
   "source": [
    "\n",
    "Sometimes, you might want to repeat a given operation many times. Repeated executions like this are performed by loops. "
   ]
  },
  {
   "cell_type": "markdown",
   "id": "987b9bbf-78b0-47cb-b710-89ac84631413",
   "metadata": {},
   "source": [
    "### What is for loop?"
   ]
  },
  {
   "cell_type": "markdown",
   "id": "ceff6405-26b3-4ff6-9cbb-2c4b3fce1496",
   "metadata": {},
   "source": [
    "\n",
    "The for loop enables you to execute a code block multiple times. For example, you would use this if you would like to print out every element in a list.\n",
    "Let's try to use a for loop to print all the years presented in the list dates:"
   ]
  },
  {
   "cell_type": "code",
   "execution_count": 5,
   "id": "46152cf8-1c69-43f0-8593-6b94ae3df597",
   "metadata": {},
   "outputs": [
    {
     "name": "stdout",
     "output_type": "stream",
     "text": [
      "1982\n",
      "1980\n",
      "1973\n",
      "1982\n",
      "1980\n",
      "1973\n"
     ]
    }
   ],
   "source": [
    "# For loop example\n",
    "\n",
    "dates = [1982,1980,1973]\n",
    "N = len(dates)\n",
    "\n",
    "for i in range(N):\n",
    "    print(dates[i])  \n",
    "\n",
    "\n",
    "# We can write same code in ////////\n",
    "dates = [1982,1980,1973]\n",
    "\n",
    "for date in dates:\n",
    "    print(date)"
   ]
  },
  {
   "cell_type": "markdown",
   "id": "540b482c-ed20-4118-b82b-fc9fe645fc5d",
   "metadata": {},
   "source": [
    "The code in the indent is executed N times, each time the value of i is increased by 1 for every execution. The statement executed is to print out the value in the list at index i as shown here:"
   ]
  },
  {
   "cell_type": "code",
   "execution_count": 7,
   "id": "598bf064-762f-4c5f-8057-f21baed65ca0",
   "metadata": {},
   "outputs": [
    {
     "name": "stdout",
     "output_type": "stream",
     "text": [
      "0\n",
      "1\n",
      "2\n",
      "3\n",
      "4\n",
      "5\n",
      "6\n",
      "7\n"
     ]
    }
   ],
   "source": [
    "# use range function 8 is not include\n",
    "for i in range(0,8):\n",
    "    print (i)"
   ]
  },
  {
   "cell_type": "code",
   "execution_count": 8,
   "id": "a368556f-4c85-441e-9788-ae649e124405",
   "metadata": {},
   "outputs": [
    {
     "name": "stdout",
     "output_type": "stream",
     "text": [
      "jan\n",
      "feb\n",
      "Mar\n",
      "Apr\n",
      "May\n"
     ]
    }
   ],
   "source": [
    "years = [\"jan\",\"feb\",\"Mar\",\"Apr\",\"May\"]\n",
    "for year in years:\n",
    "    print(year)"
   ]
  },
  {
   "cell_type": "markdown",
   "id": "6c905ca8-5d1a-47d9-a73d-154e3dd1536c",
   "metadata": {},
   "source": [
    "For each iteration, the value of the variable year behaves like the value of dates[i] in the first example:"
   ]
  },
  {
   "cell_type": "code",
   "execution_count": 9,
   "id": "da2fe68c-69cf-40e0-a004-60059681b504",
   "metadata": {},
   "outputs": [
    {
     "name": "stdout",
     "output_type": "stream",
     "text": [
      "Before square  0 is red\n",
      "After square  0 is white\n",
      "Before square  1 is yellow\n",
      "After square  1 is white\n",
      "Before square  2 is green\n",
      "After square  2 is white\n",
      "Before square  3 is purple\n",
      "After square  3 is white\n",
      "Before square  4 is blue\n",
      "After square  4 is white\n"
     ]
    }
   ],
   "source": [
    "# Use for loop to change the elements in list\n",
    "\n",
    "squares = ['red', 'yellow', 'green', 'purple', 'blue']\n",
    "\n",
    "for i in range(0, 5):\n",
    "    print(\"Before square \", i, 'is',  squares[i])\n",
    "    squares[i] = 'white'\n",
    "    print(\"After square \", i, 'is',  squares[i])"
   ]
  },
  {
   "cell_type": "code",
   "execution_count": 1,
   "id": "f322a854-8896-44d7-bff7-29ddcba98af0",
   "metadata": {},
   "outputs": [
    {
     "name": "stdout",
     "output_type": "stream",
     "text": [
      "0 red\n",
      "1 yellow\n",
      "2 green\n",
      "3 purple\n",
      "4 blue\n"
     ]
    }
   ],
   "source": [
    "# Loop through the list and iterate on both index and element value\n",
    "\n",
    "squares=['red', 'yellow', 'green', 'purple', 'blue']\n",
    "\n",
    "for i, square in enumerate(squares):\n",
    "    print(i, square)"
   ]
  },
  {
   "cell_type": "markdown",
   "id": "acc67e44-50a5-412f-9532-d861990728ba",
   "metadata": {},
   "source": [
    "# While Loop"
   ]
  },
  {
   "cell_type": "code",
   "execution_count": 2,
   "id": "f5615b95-bbbb-4e31-8f73-ba5b5b6efe8f",
   "metadata": {},
   "outputs": [
    {
     "name": "stdout",
     "output_type": "stream",
     "text": [
      "1\n",
      "2\n",
      "3\n",
      "4\n",
      "5\n"
     ]
    }
   ],
   "source": [
    "count = 1\n",
    "while count <= 5:\n",
    "    print(count)\n",
    "    count += 1"
   ]
  },
  {
   "cell_type": "code",
   "execution_count": 3,
   "id": "65ddf2cd-d621-4a80-83da-87c9cfe7eba4",
   "metadata": {},
   "outputs": [
    {
     "name": "stdout",
     "output_type": "stream",
     "text": [
      "1982\n",
      "1980\n",
      "It took  2 repetitions to get out of loop.\n"
     ]
    }
   ],
   "source": [
    "# While Loop Example\n",
    "\n",
    "dates = [1982, 1980, 1973, 2000]\n",
    "\n",
    "i = 0\n",
    "year = dates[0]\n",
    "\n",
    "while(year != 1973):    \n",
    "    print(year)\n",
    "    i = i + 1\n",
    "    year = dates[i]\n",
    "    \n",
    "\n",
    "print(\"It took \", i ,\"repetitions to get out of loop.\")"
   ]
  },
  {
   "cell_type": "code",
   "execution_count": null,
   "id": "bca8962d-0e81-4d1c-a152-efe980b0fc70",
   "metadata": {},
   "outputs": [],
   "source": []
  }
 ],
 "metadata": {
  "kernelspec": {
   "display_name": "Python 3 (ipykernel)",
   "language": "python",
   "name": "python3"
  },
  "language_info": {
   "codemirror_mode": {
    "name": "ipython",
    "version": 3
   },
   "file_extension": ".py",
   "mimetype": "text/x-python",
   "name": "python",
   "nbconvert_exporter": "python",
   "pygments_lexer": "ipython3",
   "version": "3.12.6"
  }
 },
 "nbformat": 4,
 "nbformat_minor": 5
}

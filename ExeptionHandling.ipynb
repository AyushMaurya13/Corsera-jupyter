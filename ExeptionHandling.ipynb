{
 "cells": [
  {
   "cell_type": "markdown",
   "id": "a2d53cd1-9583-49d8-bef8-e72beb5638ad",
   "metadata": {},
   "source": [
    "# Exception Handling"
   ]
  },
  {
   "cell_type": "markdown",
   "id": "2d2d0941-4f8b-4aac-8fef-9eb2eb5dc9ed",
   "metadata": {},
   "source": [
    "\n",
    "An exception is an error that occurs during the execution of code. This error causes the code to raise an exception and if not prepared to handle it will halt the execution of the code."
   ]
  },
  {
   "cell_type": "markdown",
   "id": "88916577-f13a-4b95-85ed-f27027dda203",
   "metadata": {},
   "source": [
    "Examples\n",
    "Run each piece of code and observe the exception raised"
   ]
  },
  {
   "cell_type": "code",
   "execution_count": 2,
   "id": "1dc12ba0-43ca-41d1-b855-16463a54a779",
   "metadata": {},
   "outputs": [
    {
     "ename": "ZeroDivisionError",
     "evalue": "division by zero",
     "output_type": "error",
     "traceback": [
      "\u001b[1;31m---------------------------------------------------------------------------\u001b[0m",
      "\u001b[1;31mZeroDivisionError\u001b[0m                         Traceback (most recent call last)",
      "Cell \u001b[1;32mIn[2], line 1\u001b[0m\n\u001b[1;32m----> 1\u001b[0m \u001b[38;5;241;43m1\u001b[39;49m\u001b[38;5;241;43m/\u001b[39;49m\u001b[38;5;241;43m0\u001b[39;49m \u001b[38;5;66;03m# ZeroDivisionError\u001b[39;00m\n",
      "\u001b[1;31mZeroDivisionError\u001b[0m: division by zero"
     ]
    }
   ],
   "source": [
    "1/0 # ZeroDivisionError"
   ]
  },
  {
   "cell_type": "code",
   "execution_count": 3,
   "id": "0fc56adb-bc48-4a52-a607-9bc8a298efcd",
   "metadata": {},
   "outputs": [
    {
     "ename": "NameError",
     "evalue": "name 'a' is not defined",
     "output_type": "error",
     "traceback": [
      "\u001b[1;31m---------------------------------------------------------------------------\u001b[0m",
      "\u001b[1;31mNameError\u001b[0m                                 Traceback (most recent call last)",
      "Cell \u001b[1;32mIn[3], line 1\u001b[0m\n\u001b[1;32m----> 1\u001b[0m y \u001b[38;5;241m=\u001b[39m \u001b[43ma\u001b[49m \u001b[38;5;241m+\u001b[39m \u001b[38;5;241m5\u001b[39m \u001b[38;5;66;03m# NameError -- in this case, it means that you tried to use the variable a when it was not defined\u001b[39;00m\n",
      "\u001b[1;31mNameError\u001b[0m: name 'a' is not defined"
     ]
    }
   ],
   "source": [
    "y = a + 5 # NameError ### -- in this case, it means that you tried to use the variable a when it was not defined"
   ]
  },
  {
   "cell_type": "code",
   "execution_count": 4,
   "id": "feab2c9f-6645-421e-896b-a3712a684ab5",
   "metadata": {},
   "outputs": [
    {
     "ename": "IndexError",
     "evalue": "list index out of range",
     "output_type": "error",
     "traceback": [
      "\u001b[1;31m---------------------------------------------------------------------------\u001b[0m",
      "\u001b[1;31mIndexError\u001b[0m                                Traceback (most recent call last)",
      "Cell \u001b[1;32mIn[4], line 2\u001b[0m\n\u001b[0;32m      1\u001b[0m a \u001b[38;5;241m=\u001b[39m [\u001b[38;5;241m1\u001b[39m, \u001b[38;5;241m2\u001b[39m, \u001b[38;5;241m3\u001b[39m]\n\u001b[1;32m----> 2\u001b[0m \u001b[43ma\u001b[49m\u001b[43m[\u001b[49m\u001b[38;5;241;43m10\u001b[39;49m\u001b[43m]\u001b[49m  \u001b[38;5;66;03m# IndexError ## -- in this case, it occured because you tried to access data from a list using an index that does not exist for this list.\u001b[39;00m\n",
      "\u001b[1;31mIndexError\u001b[0m: list index out of range"
     ]
    }
   ],
   "source": [
    "a = [1, 2, 3]\n",
    "a[10]  # IndexError ## -- in this case, it occured because you tried to access data from a list using an index that does not exist for this list."
   ]
  },
  {
   "cell_type": "markdown",
   "id": "b7db18c9-3b78-413b-a71a-7d47c81ec4dc",
   "metadata": {},
   "source": [
    "# Exception Handling"
   ]
  },
  {
   "cell_type": "markdown",
   "id": "aec04991-ea79-4d84-9188-8e57b6b739aa",
   "metadata": {},
   "source": [
    "# Try Except\n",
    "\n",
    "* A try except will allow you to execute code that might raise an exception and in the case of any exception or a specific one we can handle or catch the exception and execute specific code. This will allow us to continue the execution of our program even if there is an exception.\n",
    "\n",
    "* Python tries to execute the code in the try block. In this case if there is any exception raised by the code in the try block, it will be caught and the code block in the except block will be executed. After that, the code that comes after the try except will be executed"
   ]
  },
  {
   "cell_type": "code",
   "execution_count": 5,
   "id": "a88fb99a-3e7d-4a19-add4-e2606fe7bbdb",
   "metadata": {},
   "outputs": [
    {
     "ename": "IndentationError",
     "evalue": "expected an indented block after 'try' statement on line 3 (4107979928.py, line 5)",
     "output_type": "error",
     "traceback": [
      "\u001b[1;36m  Cell \u001b[1;32mIn[5], line 5\u001b[1;36m\u001b[0m\n\u001b[1;33m    except:\u001b[0m\n\u001b[1;37m    ^\u001b[0m\n\u001b[1;31mIndentationError\u001b[0m\u001b[1;31m:\u001b[0m expected an indented block after 'try' statement on line 3\n"
     ]
    }
   ],
   "source": [
    "# potential code before try catch\n",
    "\n",
    "try:\n",
    "    # code to try to execute\n",
    "except:\n",
    "    # code to execute if there is an exception\n",
    "    \n",
    "# code that will still execute if there is an exception"
   ]
  },
  {
   "cell_type": "code",
   "execution_count": 1,
   "id": "ac44c4d5-80b9-4d9e-aa29-c98c6bbb40a3",
   "metadata": {},
   "outputs": [
    {
     "name": "stdin",
     "output_type": "stream",
     "text": [
      "Please enter a number to divide a 1.1\n"
     ]
    },
    {
     "name": "stdout",
     "output_type": "stream",
     "text": [
      "There was an error\n"
     ]
    }
   ],
   "source": [
    "a = 1\n",
    "\n",
    "try:\n",
    "    b = int(input(\"Please enter a number to divide a\"))\n",
    "    a = a/b\n",
    "    print(\"Success a=\",a)\n",
    "except:\n",
    "    print(\"There was an error\")\n",
    "        \n"
   ]
  },
  {
   "cell_type": "code",
   "execution_count": 8,
   "id": "3a21d6fc-221c-4ffb-82c1-c4874ed84665",
   "metadata": {},
   "outputs": [
    {
     "name": "stdout",
     "output_type": "stream",
     "text": [
      "There was an error\n"
     ]
    },
    {
     "name": "stdin",
     "output_type": "stream",
     "text": [
      "Please enter a number to divide a 1\n"
     ]
    }
   ],
   "source": [
    "a = 3\n",
    "\n",
    "try:\n",
    "    b= int(input(\"Please enter a number to divide a\"))\n",
    "    a = a/b\n",
    "    print(\"Success a =\",a)\n",
    "except:\n",
    "    print(\"There was an error\")"
   ]
  },
  {
   "cell_type": "code",
   "execution_count": 2,
   "id": "867a5a2c-2dce-4c6c-bf68-3db542798467",
   "metadata": {},
   "outputs": [
    {
     "ename": "IndentationError",
     "evalue": "expected an indented block after 'try' statement on line 3 (2752586831.py, line 5)",
     "output_type": "error",
     "traceback": [
      "\u001b[1;36m  Cell \u001b[1;32mIn[2], line 5\u001b[1;36m\u001b[0m\n\u001b[1;33m    except (ZeroDivisionError, NameError):\u001b[0m\n\u001b[1;37m    ^\u001b[0m\n\u001b[1;31mIndentationError\u001b[0m\u001b[1;31m:\u001b[0m expected an indented block after 'try' statement on line 3\n"
     ]
    }
   ],
   "source": [
    "# potential code before try catch\n",
    "\n",
    "try:\n",
    "    # code to try to execute\n",
    "except (ZeroDivisionError, NameError):\n",
    "    # code to execute if there is an exception of the given types\n",
    "    \n",
    "# code that will execute if there is no exception or a one that we are handling"
   ]
  },
  {
   "cell_type": "code",
   "execution_count": 3,
   "id": "22dade06-c9f3-41e8-875e-35b158daed5b",
   "metadata": {},
   "outputs": [
    {
     "ename": "IndentationError",
     "evalue": "expected an indented block after 'try' statement on line 3 (2664809330.py, line 5)",
     "output_type": "error",
     "traceback": [
      "\u001b[1;36m  Cell \u001b[1;32mIn[3], line 5\u001b[1;36m\u001b[0m\n\u001b[1;33m    except ZeroDivisionError:\u001b[0m\n\u001b[1;37m    ^\u001b[0m\n\u001b[1;31mIndentationError\u001b[0m\u001b[1;31m:\u001b[0m expected an indented block after 'try' statement on line 3\n"
     ]
    }
   ],
   "source": [
    "# potential code before try catch\n",
    "\n",
    "try:\n",
    "    # code to try to execute\n",
    "except ZeroDivisionError:\n",
    "    # code to execute if there is a ZeroDivisionError\n",
    "except NameError:\n",
    "    # code to execute if there is a NameError\n",
    "    \n",
    "# code that will execute if there is no exception or a one that we are handling"
   ]
  },
  {
   "cell_type": "code",
   "execution_count": 4,
   "id": "638a40a7-b400-40e3-b0ef-82a744f08bdd",
   "metadata": {},
   "outputs": [
    {
     "ename": "IndentationError",
     "evalue": "expected an indented block after 'try' statement on line 3 (2855698367.py, line 5)",
     "output_type": "error",
     "traceback": [
      "\u001b[1;36m  Cell \u001b[1;32mIn[4], line 5\u001b[1;36m\u001b[0m\n\u001b[1;33m    except ZeroDivisionError:\u001b[0m\n\u001b[1;37m    ^\u001b[0m\n\u001b[1;31mIndentationError\u001b[0m\u001b[1;31m:\u001b[0m expected an indented block after 'try' statement on line 3\n"
     ]
    }
   ],
   "source": [
    "# potential code before try catch\n",
    "\n",
    "try:\n",
    "    # code to try to execute\n",
    "except ZeroDivisionError:\n",
    "    # code to execute if there is a ZeroDivisionError\n",
    "except NameError:\n",
    "    # code to execute if there is a NameError\n",
    "except:\n",
    "    # code to execute if ther is any exception\n",
    "    \n",
    "# code that will execute if there is no exception or a one that we are handling"
   ]
  },
  {
   "cell_type": "code",
   "execution_count": 5,
   "id": "ac9eb697-b140-4847-8568-32d31e13b375",
   "metadata": {},
   "outputs": [
    {
     "name": "stdin",
     "output_type": "stream",
     "text": [
      "Please enter a number to divide a 1.2\n"
     ]
    },
    {
     "name": "stdout",
     "output_type": "stream",
     "text": [
      "You did not provide a number\n"
     ]
    }
   ],
   "source": [
    "a = 1\n",
    "\n",
    "try:\n",
    "    b = int(input(\"Please enter a number to divide a\"))\n",
    "    a = a/b\n",
    "    print(\"Success a=\",a)\n",
    "except ZeroDivisionError:\n",
    "    print(\"The number you provided cant divide 1 because it is 0\")\n",
    "except ValueError:\n",
    "    print(\"You did not provide a number\")\n",
    "except:\n",
    "    print(\"Something went wrong\")\n",
    "        \n"
   ]
  },
  {
   "cell_type": "code",
   "execution_count": 6,
   "id": "d61bcff3-ac22-4415-802c-33f94de58546",
   "metadata": {},
   "outputs": [
    {
     "ename": "IndentationError",
     "evalue": "expected an indented block after 'try' statement on line 3 (301467801.py, line 5)",
     "output_type": "error",
     "traceback": [
      "\u001b[1;36m  Cell \u001b[1;32mIn[6], line 5\u001b[1;36m\u001b[0m\n\u001b[1;33m    except ZeroDivisionError:\u001b[0m\n\u001b[1;37m    ^\u001b[0m\n\u001b[1;31mIndentationError\u001b[0m\u001b[1;31m:\u001b[0m expected an indented block after 'try' statement on line 3\n"
     ]
    }
   ],
   "source": [
    "# potential code before try catch\n",
    "\n",
    "try:\n",
    "    # code to try to execute\n",
    "except ZeroDivisionError:\n",
    "    # code to execute if there is a ZeroDivisionError\n",
    "except NameError:\n",
    "    # code to execute if there is a NameError\n",
    "except:\n",
    "    # code to execute if ther is any exception\n",
    "else:\n",
    "    # code to execute if there is no exception\n",
    "    \n",
    "# code that will execute if there is no exception or a one that we are handling"
   ]
  },
  {
   "cell_type": "code",
   "execution_count": 7,
   "id": "48af9545-324c-4c70-bb11-8252b356f181",
   "metadata": {},
   "outputs": [
    {
     "ename": "IndentationError",
     "evalue": "expected an indented block after 'try' statement on line 3 (2829442695.py, line 5)",
     "output_type": "error",
     "traceback": [
      "\u001b[1;36m  Cell \u001b[1;32mIn[7], line 5\u001b[1;36m\u001b[0m\n\u001b[1;33m    except ZeroDivisionError:\u001b[0m\n\u001b[1;37m    ^\u001b[0m\n\u001b[1;31mIndentationError\u001b[0m\u001b[1;31m:\u001b[0m expected an indented block after 'try' statement on line 3\n"
     ]
    }
   ],
   "source": [
    "# potential code before try catch\n",
    "\n",
    "try:\n",
    "    # code to try to execute\n",
    "except ZeroDivisionError:\n",
    "    # code to execute if there is a ZeroDivisionError\n",
    "except NameError:\n",
    "    # code to execute if there is a NameError\n",
    "except:\n",
    "    # code to execute if ther is any exception\n",
    "else:\n",
    "    # code to execute if there is no exception\n",
    "finally:\n",
    "    # code to execute at the end of the try except no matter what\n",
    "    \n",
    "# code that will execute if there is no exception or a one that we are handling"
   ]
  },
  {
   "cell_type": "markdown",
   "id": "98d37ee9-cbb9-45ba-b73f-23722e813075",
   "metadata": {},
   "source": [
    "### Try Except Else and Finally Example"
   ]
  },
  {
   "cell_type": "code",
   "execution_count": 8,
   "id": "217aa521-21d6-4567-9a10-ce347ad2a400",
   "metadata": {},
   "outputs": [
    {
     "name": "stdin",
     "output_type": "stream",
     "text": [
      "Please enter a number to divide a 2.3\n"
     ]
    },
    {
     "name": "stdout",
     "output_type": "stream",
     "text": [
      "You did not provide a number\n"
     ]
    }
   ],
   "source": [
    "a = 1\n",
    "\n",
    "try:\n",
    "    b = int(input(\"Please enter a number to divide a\"))\n",
    "    a = a/b\n",
    "except ZeroDivisionError:\n",
    "    print(\"The number you provided cant divide 1 because it is 0\")\n",
    "except ValueError:\n",
    "    print(\"You did not provide a number\")\n",
    "except:\n",
    "    print(\"Something went wrong\")\n",
    "else:\n",
    "    print(\"success a=\",a)"
   ]
  },
  {
   "cell_type": "markdown",
   "id": "dc23c1d2-2cdf-496d-8256-88d8029068ca",
   "metadata": {},
   "source": [
    "\n",
    "### Now lets let the user know that we are done processing their answer. Using the finally, let's add a print."
   ]
  },
  {
   "cell_type": "code",
   "execution_count": 15,
   "id": "6ce7e73a-00ff-4339-b094-0d1b4475c010",
   "metadata": {},
   "outputs": [
    {
     "name": "stdin",
     "output_type": "stream",
     "text": [
      "Please enter a number to divide a 0\n"
     ]
    },
    {
     "name": "stdout",
     "output_type": "stream",
     "text": [
      "The number you provided cant divide 1 because it is 0\n",
      "Processing Complete\n"
     ]
    }
   ],
   "source": [
    "a = 1\n",
    "\n",
    "try:\n",
    "    b = int(input(\"Please enter a number to divide a\"))\n",
    "    a = a/b\n",
    "except ZeroDivisionError:\n",
    "    print(\"The number you provided cant divide 1 because it is 0\")\n",
    "except ValueError:\n",
    "    print(\"You did not provide a number\")\n",
    "except:\n",
    "    print(\"Something went wrong\")\n",
    "else:\n",
    "    print(\"success a=\",a)\n",
    "finally:\n",
    "    print(\"Processing Complete\")"
   ]
  },
  {
   "cell_type": "code",
   "execution_count": 20,
   "id": "b94854b5-5703-4c1f-a2ee-f29b7cbef8fd",
   "metadata": {},
   "outputs": [
    {
     "name": "stdin",
     "output_type": "stream",
     "text": [
      "enter a nummber s35\n"
     ]
    },
    {
     "name": "stdout",
     "output_type": "stream",
     "text": [
      "You did not provide correct data type\n",
      "Prosses complete without error\n"
     ]
    }
   ],
   "source": [
    "b=10\n",
    "try:\n",
    "    d = int(input(\"enter a nummber\"))\n",
    "    c=b/d\n",
    "\n",
    "except ZeroDivisionError:\n",
    "    print(\" error\")\n",
    "    \n",
    "except ValueError:\n",
    "    print(\"You did not provide correct data type\")\n",
    "\n",
    "except:\n",
    "    print(\"Somthing went wrong\")\n",
    "\n",
    "else:\n",
    "    print(\"No Error\")\n",
    "\n",
    "finally:\n",
    "    print(\"Prosses complete without error\")"
   ]
  },
  {
   "cell_type": "code",
   "execution_count": 5,
   "id": "39e66ba8-15b9-4d24-aec5-91d292de065f",
   "metadata": {},
   "outputs": [
    {
     "name": "stdin",
     "output_type": "stream",
     "text": [
      "enter a name  0\n"
     ]
    },
    {
     "name": "stdout",
     "output_type": "stream",
     "text": [
      "Type error\n",
      "prosses has been completed\n"
     ]
    }
   ],
   "source": [
    "name = input(\"enter a name \")\n",
    "try:\n",
    "    id=name /4\n",
    "\n",
    "except TypeError:\n",
    "    print(\"Type error\")\n",
    "\n",
    "except NameError:\n",
    "    print(\"Name Error \")\n",
    "except ValueError:\n",
    "    print(\"Value Error\")\n",
    "else:\n",
    "    print(\"something went wronge\")\n",
    "\n",
    "finally:\n",
    "    print(\"prosses has been completed\")"
   ]
  },
  {
   "cell_type": "markdown",
   "id": "b99416d7-2480-4cb8-a0d9-c963acfb80e8",
   "metadata": {},
   "source": [
    "# Practice Exercises"
   ]
  },
  {
   "cell_type": "markdown",
   "id": "a764796e-7e62-4277-8953-da86a76422a7",
   "metadata": {},
   "source": [
    "\n",
    "Imagine you have two numbers and want to determine what happens when you divide one number by the other. To do this, you need to create a Python function called safe_divide. You give this function two numbers, a 'numerator' and a 'denominator'. The 'numerator' is the number you want to divide, and the 'denominator' is the number you want to divide by. Use the user input method of Python to take the values.\n",
    "\n",
    "The function should be able to do the division for you and give you the result. But here's the catch: if you try to divide by zero (which is not allowed in math), the function should be smart enough to catch that and tell you that it's not possible to divide by zero. Instead of showing an error, it should return None, which means 'nothing' or 'no value', and print \"Error: Cannot divide by Zero."
   ]
  },
  {
   "cell_type": "code",
   "execution_count": 9,
   "id": "ac8dce5b-d6d4-43e2-9456-d9fe80dad8eb",
   "metadata": {},
   "outputs": [
    {
     "name": "stdin",
     "output_type": "stream",
     "text": [
      "enter numeraor 1\n",
      "enter denominator 0\n"
     ]
    },
    {
     "name": "stdout",
     "output_type": "stream",
     "text": [
      "Error cannot divide by Zero\n",
      "Prossec complete\n",
      "None\n"
     ]
    }
   ],
   "source": [
    "#Type your code here\n",
    "def safe_divide (numerator,denominator):\n",
    "    try:\n",
    "        result = numerator/denominator\n",
    "        print(result)\n",
    "        \n",
    "        \n",
    "    except ZeroDivisionError:\n",
    "        print(\"Error cannot divide by Zero\")\n",
    "        return None\n",
    "    finally:\n",
    "        print(\"Prossec complete\")\n",
    "\n",
    "# Test case    \n",
    "numerator = int(input(\"enter numeraor\"))\n",
    "denominator = int(input(\"enter denominator\"))\n",
    "print(safe_divide(numerator,denominator))"
   ]
  },
  {
   "cell_type": "markdown",
   "id": "ea942f43-5423-46de-9dd0-f1ac6ba69d32",
   "metadata": {},
   "source": [
    "### Exercise 2: Handling ValueError"
   ]
  },
  {
   "cell_type": "markdown",
   "id": "a83458c7-5c2a-4cbe-a839-6909677d4a52",
   "metadata": {},
   "source": [
    "\n",
    "Imagine you have a number and want to calculate its square root. To do this, you need to create a Python function. You give this function one number, 'number1'.\n",
    "\n",
    "The function should generate the square root value if you provide a positive integer or float value as input. However, the function should be clever enough to detect the mistake if you enter a negative value. It should kindly inform you with a message saying, 'Invalid input! Please enter a positive integer or a float value."
   ]
  },
  {
   "cell_type": "code",
   "execution_count": null,
   "id": "8e465391-018d-47c6-b3b5-8809ec540ec4",
   "metadata": {},
   "outputs": [],
   "source": []
  }
 ],
 "metadata": {
  "kernelspec": {
   "display_name": "Python 3 (ipykernel)",
   "language": "python",
   "name": "python3"
  },
  "language_info": {
   "codemirror_mode": {
    "name": "ipython",
    "version": 3
   },
   "file_extension": ".py",
   "mimetype": "text/x-python",
   "name": "python",
   "nbconvert_exporter": "python",
   "pygments_lexer": "ipython3",
   "version": "3.12.6"
  }
 },
 "nbformat": 4,
 "nbformat_minor": 5
}

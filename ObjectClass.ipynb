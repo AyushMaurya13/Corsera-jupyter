{
 "cells": [
  {
   "cell_type": "markdown",
   "id": "fc3ad132-6166-4886-8dd9-53c60d020297",
   "metadata": {},
   "source": [
    "# Class"
   ]
  },
  {
   "cell_type": "markdown",
   "id": "2a2bcfd9-7c99-4a33-90d2-e23551d5190f",
   "metadata": {},
   "source": [
    "### Creating Class "
   ]
  },
  {
   "cell_type": "markdown",
   "id": "f097dac4-3320-4fd4-8f40-3b3aa1392a50",
   "metadata": {},
   "source": [
    "When you create a class, you specify the  ##### attributes(data) and  #### methods (functions) that objects of that class will have.\n",
    "Attributes are defined as variables within the class, and methods are defined as functions."
   ]
  },
  {
   "cell_type": "markdown",
   "id": "be27c47f-a42a-40f3-93c9-6b5a5ae4702a",
   "metadata": {},
   "source": [
    "### Class declaration (class ClassName)"
   ]
  },
  {
   "cell_type": "code",
   "execution_count": 6,
   "id": "e8816ea0-c0a7-4f78-840f-1e58fdaa1b38",
   "metadata": {},
   "outputs": [
    {
     "ename": "SyntaxError",
     "evalue": "incomplete input (3299598522.py, line 1)",
     "output_type": "error",
     "traceback": [
      "\u001b[1;36m  Cell \u001b[1;32mIn[6], line 1\u001b[1;36m\u001b[0m\n\u001b[1;33m    class ClassName:\u001b[0m\n\u001b[1;37m                    ^\u001b[0m\n\u001b[1;31mSyntaxError\u001b[0m\u001b[1;31m:\u001b[0m incomplete input\n"
     ]
    }
   ],
   "source": [
    "class ClassName:"
   ]
  },
  {
   "cell_type": "markdown",
   "id": "09d9584a-9e66-4ad7-8054-5c6d181e4b09",
   "metadata": {},
   "source": [
    "### Class attributes (class_attribute = value)"
   ]
  },
  {
   "cell_type": "code",
   "execution_count": 5,
   "id": "f3b61555-db38-45d7-8885-5661a2b4240c",
   "metadata": {},
   "outputs": [
    {
     "ename": "NameError",
     "evalue": "name 'value' is not defined",
     "output_type": "error",
     "traceback": [
      "\u001b[1;31m---------------------------------------------------------------------------\u001b[0m",
      "\u001b[1;31mNameError\u001b[0m                                 Traceback (most recent call last)",
      "Cell \u001b[1;32mIn[5], line 1\u001b[0m\n\u001b[1;32m----> 1\u001b[0m \u001b[38;5;28;43;01mclass\u001b[39;49;00m\u001b[43m \u001b[49m\u001b[38;5;21;43;01mClassName\u001b[39;49;00m\u001b[43m:\u001b[49m\n\u001b[0;32m      2\u001b[0m \u001b[43m    \u001b[49m\u001b[38;5;66;43;03m# Class attributes (shared by all instances)\u001b[39;49;00m\n\u001b[0;32m      3\u001b[0m \u001b[43m    \u001b[49m\u001b[43mclass_attribute\u001b[49m\u001b[43m \u001b[49m\u001b[38;5;241;43m=\u001b[39;49m\u001b[43m \u001b[49m\u001b[43mvalue\u001b[49m\n",
      "Cell \u001b[1;32mIn[5], line 3\u001b[0m, in \u001b[0;36mClassName\u001b[1;34m()\u001b[0m\n\u001b[0;32m      1\u001b[0m \u001b[38;5;28;01mclass\u001b[39;00m \u001b[38;5;21;01mClassName\u001b[39;00m:\n\u001b[0;32m      2\u001b[0m     \u001b[38;5;66;03m# Class attributes (shared by all instances)\u001b[39;00m\n\u001b[1;32m----> 3\u001b[0m     class_attribute \u001b[38;5;241m=\u001b[39m \u001b[43mvalue\u001b[49m\n",
      "\u001b[1;31mNameError\u001b[0m: name 'value' is not defined"
     ]
    }
   ],
   "source": [
    "class ClassName:\n",
    "    # Class attributes (shared by all instances)\n",
    "    class_attribute = value"
   ]
  },
  {
   "cell_type": "markdown",
   "id": "1fa443e9-34c2-41bd-9438-04b1a060b232",
   "metadata": {},
   "source": [
    "### Constructor method (def init(self, attribute1, attribute2, …):)"
   ]
  },
  {
   "cell_type": "markdown",
   "id": "65bd6221-6ecc-4ae8-8639-8eb9387c09d0",
   "metadata": {},
   "source": [
    "* The __init__ method is a special method known as the constructor.\n",
    "It initializes the instance attributes (also called instance variables) when an object is created.\n",
    "The self parameter is the first parameter of the constructor, referring to the instance being created.\n",
    "attribute1, attribute2, and so on are parameters passed to the constructor when creating an object.\n",
    "Inside the constructor, self.attribute1, self.attribute2, and so on are used to assign values to instance attributes."
   ]
  },
  {
   "cell_type": "code",
   "execution_count": 4,
   "id": "f2a9c6aa-fad3-4876-9864-f3495e896e8b",
   "metadata": {},
   "outputs": [
    {
     "ename": "SyntaxError",
     "evalue": "invalid syntax (4000732150.py, line 5)",
     "output_type": "error",
     "traceback": [
      "\u001b[1;36m  Cell \u001b[1;32mIn[4], line 5\u001b[1;36m\u001b[0m\n\u001b[1;33m    def __init__(self, attribute1, attribute2, ...):\u001b[0m\n\u001b[1;37m                                               ^\u001b[0m\n\u001b[1;31mSyntaxError\u001b[0m\u001b[1;31m:\u001b[0m invalid syntax\n"
     ]
    }
   ],
   "source": [
    "class ClassName:\n",
    "    # Class attributes (shared by all instances)\n",
    "    class_attribute = value\n",
    "    # Constructor method (initialize instance attributes)\n",
    "    def __init__(self, attribute1, attribute2, ...):\n",
    "        pass\n",
    "        # ..."
   ]
  },
  {
   "cell_type": "markdown",
   "id": "4103ff00-2a51-4827-975f-97ebf827bb79",
   "metadata": {},
   "source": [
    "### Instance attributes (self.attribute1 = attribute1)"
   ]
  },
  {
   "cell_type": "markdown",
   "id": "4b60ea70-5d9e-431f-b9ee-a8168c5ed458",
   "metadata": {},
   "source": [
    "* Instance attributes are variables that store data specific to each class instance.\n",
    "They are initialized within the __init__ method using the self keyword followed by the attribute name.\n",
    "These attributes hold unique data for each object created from the class."
   ]
  },
  {
   "cell_type": "code",
   "execution_count": 3,
   "id": "5753fe6d-e21f-4619-961e-084055e1af87",
   "metadata": {},
   "outputs": [
    {
     "ename": "SyntaxError",
     "evalue": "invalid syntax (511557869.py, line 5)",
     "output_type": "error",
     "traceback": [
      "\u001b[1;36m  Cell \u001b[1;32mIn[3], line 5\u001b[1;36m\u001b[0m\n\u001b[1;33m    def __init__(self, attribute1, attribute2, ...):\u001b[0m\n\u001b[1;37m                                               ^\u001b[0m\n\u001b[1;31mSyntaxError\u001b[0m\u001b[1;31m:\u001b[0m invalid syntax\n"
     ]
    }
   ],
   "source": [
    "class ClassName:\n",
    "    # Class attributes (shared by all instances)\n",
    "    class_attribute = value\n",
    "    # Constructor method (initialize instance attributes)\n",
    "    def __init__(self, attribute1, attribute2, ...):\n",
    "        self.attribute1 = attribute1\n",
    "        self.attribute2 = attribute2\n",
    "        # ..."
   ]
  },
  {
   "cell_type": "markdown",
   "id": "bf25896b-1f37-465b-b215-9d1caaf99a7c",
   "metadata": {},
   "source": [
    "### Instance methods (def method1(self, parameter1, parameter2, …):)"
   ]
  },
  {
   "cell_type": "markdown",
   "id": "b4e9760c-3ba5-4a13-9293-1c84cfeb5978",
   "metadata": {},
   "source": [
    "Instance methods are functions defined within the class.\n",
    "They operate on the instance's data (instance attributes) and can perform actions specific to instances.\n",
    "The self parameter is required in instance methods, allowing them to access instance attributes and call other methods within the class."
   ]
  },
  {
   "cell_type": "code",
   "execution_count": 2,
   "id": "71272ca2-9820-44e2-9c10-dc0bb80aba6d",
   "metadata": {},
   "outputs": [
    {
     "ename": "SyntaxError",
     "evalue": "invalid syntax (2333472593.py, line 5)",
     "output_type": "error",
     "traceback": [
      "\u001b[1;36m  Cell \u001b[1;32mIn[2], line 5\u001b[1;36m\u001b[0m\n\u001b[1;33m    def __init__(self, attribute1, attribute2, ...):\u001b[0m\n\u001b[1;37m                                               ^\u001b[0m\n\u001b[1;31mSyntaxError\u001b[0m\u001b[1;31m:\u001b[0m invalid syntax\n"
     ]
    }
   ],
   "source": [
    "class ClassName:\n",
    "    # Class attributes (shared by all instances)\n",
    "    class_attribute = value\n",
    "    # Constructor method (initialize instance attributes)\n",
    "    def __init__(self, attribute1, attribute2, ...):\n",
    "        self.attribute1 = attribute1\n",
    "        self.attribute2 = attribute2\n",
    "        # ...\n",
    "    # Instance methods (functions)\n",
    "    def method1(self, parameter1, parameter2, ...):\n",
    "        # Method logic\n",
    "        pass"
   ]
  },
  {
   "cell_type": "markdown",
   "id": "378faffe-c4af-4567-accf-2ecc859a9724",
   "metadata": {},
   "source": [
    "Using the same steps you can define multiple instance methods."
   ]
  },
  {
   "cell_type": "code",
   "execution_count": 1,
   "id": "b271e0cf-6e8c-4a7b-b32a-246bfe90d7d6",
   "metadata": {},
   "outputs": [
    {
     "ename": "SyntaxError",
     "evalue": "invalid syntax (2669713052.py, line 5)",
     "output_type": "error",
     "traceback": [
      "\u001b[1;36m  Cell \u001b[1;32mIn[1], line 5\u001b[1;36m\u001b[0m\n\u001b[1;33m    def __init__(self, attribute1, attribute2, ...):\u001b[0m\n\u001b[1;37m                                               ^\u001b[0m\n\u001b[1;31mSyntaxError\u001b[0m\u001b[1;31m:\u001b[0m invalid syntax\n"
     ]
    }
   ],
   "source": [
    "class ClassName:\n",
    "    # Class attributes (shared by all instances)\n",
    "    class_attribute = value\n",
    "    # Constructor method (initialize instance attributes)\n",
    "    def __init__(self, attribute1, attribute2, ...):\n",
    "        self.attribute1 = attribute1\n",
    "        self.attribute2 = attribute2\n",
    "        # ...\n",
    "    # Instance methods (functions)\n",
    "    def method1(self, parameter1, parameter2, ...):\n",
    "        # Method logic\n",
    "        pass\n",
    "    def method2(self, parameter1, parameter2, ...):\n",
    "        # Method logic\n",
    "        pass"
   ]
  },
  {
   "cell_type": "markdown",
   "id": "b1d16251-6a79-4d70-9530-793d44680933",
   "metadata": {},
   "source": [
    "### Creating objects (Instances)"
   ]
  },
  {
   "cell_type": "markdown",
   "id": "443cb379-baed-4755-b902-ddb6b1ecd9b5",
   "metadata": {},
   "source": [
    "To create objects (instances) of the class, you call the class like a function and provide arguments the constructor requires.\n",
    "Each object is a distinct instance of the class, with its own instance attributes and the ability to call methods defined in the class."
   ]
  },
  {
   "cell_type": "code",
   "execution_count": 8,
   "id": "32611904-803d-4ba4-95e4-ddd85c9f4c44",
   "metadata": {},
   "outputs": [
    {
     "ename": "NameError",
     "evalue": "name 'ClassName' is not defined",
     "output_type": "error",
     "traceback": [
      "\u001b[1;31m---------------------------------------------------------------------------\u001b[0m",
      "\u001b[1;31mNameError\u001b[0m                                 Traceback (most recent call last)",
      "Cell \u001b[1;32mIn[8], line 2\u001b[0m\n\u001b[0;32m      1\u001b[0m \u001b[38;5;66;03m# Create objects (instances) of the class\u001b[39;00m\n\u001b[1;32m----> 2\u001b[0m object1 \u001b[38;5;241m=\u001b[39m \u001b[43mClassName\u001b[49m(arg1, arg2, \u001b[38;5;241m.\u001b[39m\u001b[38;5;241m.\u001b[39m\u001b[38;5;241m.\u001b[39m)\n\u001b[0;32m      3\u001b[0m object2 \u001b[38;5;241m=\u001b[39m ClassName(arg1, arg2, \u001b[38;5;241m.\u001b[39m\u001b[38;5;241m.\u001b[39m\u001b[38;5;241m.\u001b[39m)\n",
      "\u001b[1;31mNameError\u001b[0m: name 'ClassName' is not defined"
     ]
    }
   ],
   "source": [
    "# Create objects (instances) of the class\n",
    "object1 = ClassName(arg1, arg2, ...)\n",
    "object2 = ClassName(arg1, arg2, ...)\n"
   ]
  },
  {
   "cell_type": "markdown",
   "id": "ad954a3d-ed68-40c9-81ee-426c8e15c8f3",
   "metadata": {},
   "source": [
    "### Calling methods on objects"
   ]
  },
  {
   "cell_type": "markdown",
   "id": "dd84fe34-b235-46a2-b1e4-2329d46de77f",
   "metadata": {},
   "source": [
    "In this section, you will call methods on objects, specifically object1 and object2.\n",
    "The methods method1 and method2 are defined in the ClassName class, and you're calling them on object1 and object2 respectively.\n",
    "You pass values param1_value and param2_value as arguments to these methods. These arguments are used within the method's logic."
   ]
  },
  {
   "cell_type": "markdown",
   "id": "9907e797-deb0-4538-9b6d-ee3a76ccc309",
   "metadata": {},
   "source": [
    "### Method 1: Using dot notation"
   ]
  },
  {
   "cell_type": "markdown",
   "id": "45c5d3e3-15b4-41e7-ac29-1ac3baae2aa5",
   "metadata": {},
   "source": [
    "This is the most straightforward way to call an object's method. In this, use the dot notation (object.method()) to invoke the method on the object directly.\n",
    "For example, result1 = object1.method1(param1_value, param2_value, ...) calls method1 on object1"
   ]
  },
  {
   "cell_type": "code",
   "execution_count": 7,
   "id": "be6598ca-3b62-4870-93a9-6fc1dbd57e09",
   "metadata": {},
   "outputs": [
    {
     "ename": "NameError",
     "evalue": "name 'object1' is not defined",
     "output_type": "error",
     "traceback": [
      "\u001b[1;31m---------------------------------------------------------------------------\u001b[0m",
      "\u001b[1;31mNameError\u001b[0m                                 Traceback (most recent call last)",
      "Cell \u001b[1;32mIn[7], line 3\u001b[0m\n\u001b[0;32m      1\u001b[0m \u001b[38;5;66;03m# Calling methods on objects\u001b[39;00m\n\u001b[0;32m      2\u001b[0m \u001b[38;5;66;03m# Method 1: Using dot notation\u001b[39;00m\n\u001b[1;32m----> 3\u001b[0m result1 \u001b[38;5;241m=\u001b[39m \u001b[43mobject1\u001b[49m\u001b[38;5;241m.\u001b[39mmethod1(param1_value, param2_value, \u001b[38;5;241m.\u001b[39m\u001b[38;5;241m.\u001b[39m\u001b[38;5;241m.\u001b[39m)\n\u001b[0;32m      4\u001b[0m result2 \u001b[38;5;241m=\u001b[39m object2\u001b[38;5;241m.\u001b[39mmethod2(param1_value, param2_value, \u001b[38;5;241m.\u001b[39m\u001b[38;5;241m.\u001b[39m\u001b[38;5;241m.\u001b[39m)\n",
      "\u001b[1;31mNameError\u001b[0m: name 'object1' is not defined"
     ]
    }
   ],
   "source": [
    "# Calling methods on objects\n",
    "# Method 1: Using dot notation\n",
    "result1 = object1.method1(param1_value, param2_value, ...)\n",
    "result2 = object2.method2(param1_value, param2_value, ...)"
   ]
  },
  {
   "cell_type": "markdown",
   "id": "a2bd0bc1-ab53-4d3d-bbed-77add2e806e7",
   "metadata": {},
   "source": [
    "### Method 2: Assigning object methods to variables"
   ]
  },
  {
   "cell_type": "markdown",
   "id": "e0b04fbd-26e4-459f-b4d1-ea4def284285",
   "metadata": {},
   "source": [
    "Here's an alternative way to call an object's method by assigning the method reference to a variable.\n",
    "method_reference = object1.method1 assigns the method method1 of object1 to the variable method_reference.\n",
    "Later, call the method using the variable like this: result3 = method_reference(param1_value, param2_value, …)."
   ]
  },
  {
   "cell_type": "code",
   "execution_count": 9,
   "id": "c9a6e30d-2d07-4bcb-a580-bbf3e4e930e2",
   "metadata": {},
   "outputs": [
    {
     "ename": "NameError",
     "evalue": "name 'object1' is not defined",
     "output_type": "error",
     "traceback": [
      "\u001b[1;31m---------------------------------------------------------------------------\u001b[0m",
      "\u001b[1;31mNameError\u001b[0m                                 Traceback (most recent call last)",
      "Cell \u001b[1;32mIn[9], line 2\u001b[0m\n\u001b[0;32m      1\u001b[0m \u001b[38;5;66;03m# Method 2: Assigning object methods to variables\u001b[39;00m\n\u001b[1;32m----> 2\u001b[0m method_reference \u001b[38;5;241m=\u001b[39m \u001b[43mobject1\u001b[49m\u001b[38;5;241m.\u001b[39mmethod1  \u001b[38;5;66;03m# Assign the method to a variable\u001b[39;00m\n\u001b[0;32m      3\u001b[0m result3 \u001b[38;5;241m=\u001b[39m method_reference(param1_value, param2_value, \u001b[38;5;241m.\u001b[39m\u001b[38;5;241m.\u001b[39m\u001b[38;5;241m.\u001b[39m)\n",
      "\u001b[1;31mNameError\u001b[0m: name 'object1' is not defined"
     ]
    }
   ],
   "source": [
    "# Method 2: Assigning object methods to variables\n",
    "method_reference = object1.method1  # Assign the method to a variable\n",
    "result3 = method_reference(param1_value, param2_value, ...)"
   ]
  },
  {
   "cell_type": "markdown",
   "id": "69522d53-3717-46f4-a204-0381bf4e4f21",
   "metadata": {},
   "source": [
    "### Accessing object attributes\n"
   ]
  },
  {
   "cell_type": "markdown",
   "id": "05c8e85c-c26e-4862-a00d-667b157ad251",
   "metadata": {},
   "source": [
    "* Here, you are accessing an object's attribute using dot notation.\n",
    "* attribute_value = object1.attribute1 retrieves the value of the attribute attribute1 from __object1__and assigns it to the variable attribute_value."
   ]
  },
  {
   "cell_type": "code",
   "execution_count": 1,
   "id": "d0a24771-e275-42d5-a5f2-d919987298a7",
   "metadata": {},
   "outputs": [
    {
     "ename": "NameError",
     "evalue": "name 'object1' is not defined",
     "output_type": "error",
     "traceback": [
      "\u001b[1;31m---------------------------------------------------------------------------\u001b[0m",
      "\u001b[1;31mNameError\u001b[0m                                 Traceback (most recent call last)",
      "Cell \u001b[1;32mIn[1], line 2\u001b[0m\n\u001b[0;32m      1\u001b[0m \u001b[38;5;66;03m# Accessing object attributes\u001b[39;00m\n\u001b[1;32m----> 2\u001b[0m attribute_value \u001b[38;5;241m=\u001b[39m \u001b[43mobject1\u001b[49m\u001b[38;5;241m.\u001b[39mattribute1  \u001b[38;5;66;03m# Access the attribute using dot notation\u001b[39;00m\n",
      "\u001b[1;31mNameError\u001b[0m: name 'object1' is not defined"
     ]
    }
   ],
   "source": [
    "# Accessing object attributes\n",
    "attribute_value = object1.attribute1  # Access the attribute using dot notation"
   ]
  },
  {
   "cell_type": "markdown",
   "id": "e0c1fb60-8301-4735-b018-aa20bcc4562a",
   "metadata": {},
   "source": [
    "### Modifying object attributes"
   ]
  },
  {
   "cell_type": "markdown",
   "id": "e5a54517-4541-432f-9c9f-0cc512b95699",
   "metadata": {},
   "source": [
    "* You will modify an object's attribute using dot notation.\n",
    "* object1.attribute2 = new_value sets the attribute attribute2 of object1 to the new value new_value."
   ]
  },
  {
   "cell_type": "code",
   "execution_count": 2,
   "id": "607daef9-b59b-4d6e-b19f-93a8c309d55c",
   "metadata": {},
   "outputs": [
    {
     "ename": "NameError",
     "evalue": "name 'new_value' is not defined",
     "output_type": "error",
     "traceback": [
      "\u001b[1;31m---------------------------------------------------------------------------\u001b[0m",
      "\u001b[1;31mNameError\u001b[0m                                 Traceback (most recent call last)",
      "Cell \u001b[1;32mIn[2], line 2\u001b[0m\n\u001b[0;32m      1\u001b[0m \u001b[38;5;66;03m# Modifying object attributes\u001b[39;00m\n\u001b[1;32m----> 2\u001b[0m object1\u001b[38;5;241m.\u001b[39mattribute2 \u001b[38;5;241m=\u001b[39m \u001b[43mnew_value\u001b[49m  \u001b[38;5;66;03m# Change the value of an attribute using dot notation\u001b[39;00m\n",
      "\u001b[1;31mNameError\u001b[0m: name 'new_value' is not defined"
     ]
    }
   ],
   "source": [
    "# Modifying object attributes\n",
    "object1.attribute2 = new_value  # Change the value of an attribute using dot notation"
   ]
  },
  {
   "cell_type": "markdown",
   "id": "52979158-a925-4ea9-a109-1ef6e5fc89f8",
   "metadata": {},
   "source": [
    "### Accessing class attributes (shared by all instances)"
   ]
  },
  {
   "cell_type": "markdown",
   "id": "70fa5ccf-e85b-45cc-a0e2-6d28388e9d15",
   "metadata": {},
   "source": [
    "* Finally, access a class attribute shared by all class instances.\n",
    "* class_attr_value = ClassName.class_attribute accesses the class attribute class_attribute from the ClassName class and assigns its value to the variable.\n",
    "class_attr_value."
   ]
  },
  {
   "cell_type": "code",
   "execution_count": 3,
   "id": "01595cf9-a81b-4cea-983e-413a1c9e55b0",
   "metadata": {},
   "outputs": [
    {
     "ename": "NameError",
     "evalue": "name 'ClassName' is not defined",
     "output_type": "error",
     "traceback": [
      "\u001b[1;31m---------------------------------------------------------------------------\u001b[0m",
      "\u001b[1;31mNameError\u001b[0m                                 Traceback (most recent call last)",
      "Cell \u001b[1;32mIn[3], line 2\u001b[0m\n\u001b[0;32m      1\u001b[0m \u001b[38;5;66;03m# Accessing class attributes (shared by all instances)\u001b[39;00m\n\u001b[1;32m----> 2\u001b[0m class_attr_value \u001b[38;5;241m=\u001b[39m \u001b[43mClassName\u001b[49m\u001b[38;5;241m.\u001b[39mclass_attribute\n",
      "\u001b[1;31mNameError\u001b[0m: name 'ClassName' is not defined"
     ]
    }
   ],
   "source": [
    "# Accessing class attributes (shared by all instances)\n",
    "class_attr_value = ClassName.class_attribute"
   ]
  },
  {
   "cell_type": "markdown",
   "id": "746f7a6e-a544-4b36-85d5-4e0113816374",
   "metadata": {},
   "source": [
    "## Real-world example"
   ]
  },
  {
   "cell_type": "markdown",
   "id": "262b90b5-3e0b-4955-8d58-f2f59dbd11dd",
   "metadata": {},
   "source": [
    "Let's write a python program that simulates a simple car class, allowing you to create car instances, accelerate them, and display their current speeds.\n",
    "\n",
    "1. Let's start by defining a Car class that includes the following attributes and methods:\n",
    "* Class attribute max_speed, which is set to 120 km/h.\n",
    "\n",
    "* Constructor method __init__ that takes parameters for the car's make, model, color, and an optional speed (defaulting to 0). This method initializes instance attributes for make, model, color, and speed.\n",
    "\n",
    "* Method accelerate(self, acceleration) that allows the car to accelerate. If the acceleration does not exceed the max_speed, update the car's speed attribute. Otherwise, set the speed to the max_speed.\n",
    "\n",
    "* Method get_speed(self) that returns the current speed of the car."
   ]
  },
  {
   "cell_type": "code",
   "execution_count": 4,
   "id": "b5456cae-3ce5-495d-b4df-d1e8df0f06c9",
   "metadata": {},
   "outputs": [],
   "source": [
    "class Car:\n",
    "    # Class attribute (shared by all instances)\n",
    "    max_speed = 120  # Maximum speed in km/h\n",
    "    # Constructor method (initialize instance attributes)\n",
    "    def __init__(self, make, model, color, speed=0):\n",
    "        self.make = make\n",
    "        self.model = model\n",
    "        self.color = color\n",
    "        self.speed = speed  # Initial speed is set to 0\n",
    "    # Method for accelerating the car\n",
    "    def accelerate(self, acceleration):\n",
    "        if self.speed + acceleration <= Car.max_speed:\n",
    "            self.speed += acceleration\n",
    "        else:\n",
    "            self.speed = Car.max_speed\n",
    "    # Method to get the current speed of the car\n",
    "    def get_speed(self):\n",
    "        return self.speed"
   ]
  },
  {
   "cell_type": "markdown",
   "id": "9a401010-348d-4578-a2ff-a9c855262dc4",
   "metadata": {},
   "source": [
    "2. Now, you will instantiate two objects of the Car class, each with the following characteristics:"
   ]
  },
  {
   "cell_type": "markdown",
   "id": "10619abe-0a37-4019-a7e2-1ecb005e2360",
   "metadata": {},
   "source": [
    "* car1: Make = \"Toyota\", Model = \"Camry\", Color = \"Blue\"\n",
    "\n",
    "* car2: Make = \"Honda\", Model = \"Civic\", Color = \"Red\""
   ]
  },
  {
   "cell_type": "code",
   "execution_count": null,
   "id": "f2aa9a18-b4b0-4b25-b7ad-dce5130640a2",
   "metadata": {},
   "outputs": [],
   "source": [
    "# Create objects (instances) of the Car class\n",
    "car1 = Car(\"Toyota\", \"Camry\", \"Blue\")\n",
    "car2 = Car(\"Honda\", \"Civic\", \"Red\")"
   ]
  },
  {
   "cell_type": "markdown",
   "id": "9c629c3f-5756-4520-9c6f-daf61d6e52a1",
   "metadata": {},
   "source": [
    "3. Using the accelerate method, you will increase the speed of car1 by 30 km/h and car2 by 20 km/h."
   ]
  },
  {
   "cell_type": "code",
   "execution_count": 5,
   "id": "d0b1a1e8-0f29-4082-a930-8ad2b1f64896",
   "metadata": {},
   "outputs": [
    {
     "ename": "NameError",
     "evalue": "name 'car1' is not defined",
     "output_type": "error",
     "traceback": [
      "\u001b[1;31m---------------------------------------------------------------------------\u001b[0m",
      "\u001b[1;31mNameError\u001b[0m                                 Traceback (most recent call last)",
      "Cell \u001b[1;32mIn[5], line 2\u001b[0m\n\u001b[0;32m      1\u001b[0m \u001b[38;5;66;03m# Accelerate the cars\u001b[39;00m\n\u001b[1;32m----> 2\u001b[0m \u001b[43mcar1\u001b[49m\u001b[38;5;241m.\u001b[39maccelerate(\u001b[38;5;241m30\u001b[39m)\n\u001b[0;32m      3\u001b[0m car2\u001b[38;5;241m.\u001b[39maccelerate(\u001b[38;5;241m20\u001b[39m)\n",
      "\u001b[1;31mNameError\u001b[0m: name 'car1' is not defined"
     ]
    }
   ],
   "source": [
    "# Accelerate the cars\n",
    "car1.accelerate(30)\n",
    "car2.accelerate(20)"
   ]
  },
  {
   "cell_type": "markdown",
   "id": "64731bfb-2438-46d3-b6a3-ef8bf09d2ae7",
   "metadata": {},
   "source": [
    "4. Lastly, you will display the current speed of each car by utilizing the get_speed method."
   ]
  },
  {
   "cell_type": "code",
   "execution_count": 6,
   "id": "a2eb7d3c-5a6c-4c9c-9db4-1b0b7abf71be",
   "metadata": {},
   "outputs": [
    {
     "ename": "NameError",
     "evalue": "name 'car1' is not defined",
     "output_type": "error",
     "traceback": [
      "\u001b[1;31m---------------------------------------------------------------------------\u001b[0m",
      "\u001b[1;31mNameError\u001b[0m                                 Traceback (most recent call last)",
      "Cell \u001b[1;32mIn[6], line 2\u001b[0m\n\u001b[0;32m      1\u001b[0m \u001b[38;5;66;03m# Print the current speeds of the cars\u001b[39;00m\n\u001b[1;32m----> 2\u001b[0m \u001b[38;5;28mprint\u001b[39m(\u001b[38;5;124mf\u001b[39m\u001b[38;5;124m\"\u001b[39m\u001b[38;5;132;01m{\u001b[39;00m\u001b[43mcar1\u001b[49m\u001b[38;5;241m.\u001b[39mmake\u001b[38;5;132;01m}\u001b[39;00m\u001b[38;5;124m \u001b[39m\u001b[38;5;132;01m{\u001b[39;00mcar1\u001b[38;5;241m.\u001b[39mmodel\u001b[38;5;132;01m}\u001b[39;00m\u001b[38;5;124m is currently at \u001b[39m\u001b[38;5;132;01m{\u001b[39;00mcar1\u001b[38;5;241m.\u001b[39mget_speed()\u001b[38;5;132;01m}\u001b[39;00m\u001b[38;5;124m km/h.\u001b[39m\u001b[38;5;124m\"\u001b[39m)\n\u001b[0;32m      3\u001b[0m \u001b[38;5;28mprint\u001b[39m(\u001b[38;5;124mf\u001b[39m\u001b[38;5;124m\"\u001b[39m\u001b[38;5;132;01m{\u001b[39;00mcar2\u001b[38;5;241m.\u001b[39mmake\u001b[38;5;132;01m}\u001b[39;00m\u001b[38;5;124m \u001b[39m\u001b[38;5;132;01m{\u001b[39;00mcar2\u001b[38;5;241m.\u001b[39mmodel\u001b[38;5;132;01m}\u001b[39;00m\u001b[38;5;124m is currently at \u001b[39m\u001b[38;5;132;01m{\u001b[39;00mcar2\u001b[38;5;241m.\u001b[39mget_speed()\u001b[38;5;132;01m}\u001b[39;00m\u001b[38;5;124m km/h.\u001b[39m\u001b[38;5;124m\"\u001b[39m)\n",
      "\u001b[1;31mNameError\u001b[0m: name 'car1' is not defined"
     ]
    }
   ],
   "source": [
    "# Print the current speeds of the cars\n",
    "print(f\"{car1.make} {car1.model} is currently at {car1.get_speed()} km/h.\")\n",
    "print(f\"{car2.make} {car2.model} is currently at {car2.get_speed()} km/h.\")"
   ]
  },
  {
   "cell_type": "markdown",
   "id": "97e0788a-f351-49a9-92d8-4e77becdf0e7",
   "metadata": {},
   "source": [
    "# Classes and Objects in Python"
   ]
  },
  {
   "cell_type": "markdown",
   "id": "cfda34c0-1811-40f2-8f15-45363446555b",
   "metadata": {},
   "source": [
    "### Creating an instance of a class Circle"
   ]
  },
  {
   "cell_type": "code",
   "execution_count": 1,
   "id": "a73c6cdc-d155-4b5c-b908-c86eb8b16c31",
   "metadata": {},
   "outputs": [
    {
     "ename": "NameError",
     "evalue": "name 'Circle' is not defined",
     "output_type": "error",
     "traceback": [
      "\u001b[1;31m---------------------------------------------------------------------------\u001b[0m",
      "\u001b[1;31mNameError\u001b[0m                                 Traceback (most recent call last)",
      "Cell \u001b[1;32mIn[1], line 3\u001b[0m\n\u001b[0;32m      1\u001b[0m \u001b[38;5;66;03m# Create an object RedCircle\u001b[39;00m\n\u001b[1;32m----> 3\u001b[0m RedCircle \u001b[38;5;241m=\u001b[39m \u001b[43mCircle\u001b[49m(\u001b[38;5;241m10\u001b[39m, \u001b[38;5;124m'\u001b[39m\u001b[38;5;124mred\u001b[39m\u001b[38;5;124m'\u001b[39m)\n",
      "\u001b[1;31mNameError\u001b[0m: name 'Circle' is not defined"
     ]
    }
   ],
   "source": [
    "# Create an object RedCircle\n",
    "\n",
    "RedCircle = Circle(10, 'red')"
   ]
  },
  {
   "cell_type": "markdown",
   "id": "8c7381c6-4c6f-422d-bad9-50504e4b50f3",
   "metadata": {},
   "source": [
    "We can look at the data attributes of the object:"
   ]
  },
  {
   "cell_type": "code",
   "execution_count": null,
   "id": "8d86dde7-8bf9-4f53-bdf3-a874bb047821",
   "metadata": {},
   "outputs": [],
   "source": [
    "# Print the object attribute radius\n",
    "\n",
    "RedCircle.radius\n",
    "\n",
    "# Print the object attribute color\n",
    "\n",
    "RedCircle.color"
   ]
  },
  {
   "cell_type": "markdown",
   "id": "00c4877f-a836-47ab-9a13-a1a2f16bd613",
   "metadata": {},
   "source": [
    "We can change the object's data attributes"
   ]
  },
  {
   "cell_type": "code",
   "execution_count": null,
   "id": "a79bc89a-1542-4cb2-85f4-999fc1ec7f2b",
   "metadata": {},
   "outputs": [],
   "source": [
    "# Set the object attribute radius\n",
    "\n",
    "RedCircle.radius = 1\n",
    "RedCircle.radius"
   ]
  },
  {
   "cell_type": "markdown",
   "id": "994c37a9-1bdb-45e2-9abe-f88eea44cce6",
   "metadata": {},
   "source": [
    "We can increase the radius of the circle by applying the method add_radius(). Let's increases the radius by 2 and then by 5:\n",
    "\n"
   ]
  },
  {
   "cell_type": "code",
   "execution_count": 2,
   "id": "c1687ada-089e-4982-9110-51a6b0dbb393",
   "metadata": {},
   "outputs": [
    {
     "ename": "NameError",
     "evalue": "name 'RedCircle' is not defined",
     "output_type": "error",
     "traceback": [
      "\u001b[1;31m---------------------------------------------------------------------------\u001b[0m",
      "\u001b[1;31mNameError\u001b[0m                                 Traceback (most recent call last)",
      "Cell \u001b[1;32mIn[2], line 3\u001b[0m\n\u001b[0;32m      1\u001b[0m \u001b[38;5;66;03m# Use method to change the object attribute radius\u001b[39;00m\n\u001b[1;32m----> 3\u001b[0m \u001b[38;5;28mprint\u001b[39m(\u001b[38;5;124m'\u001b[39m\u001b[38;5;124mRadius of object:\u001b[39m\u001b[38;5;124m'\u001b[39m,\u001b[43mRedCircle\u001b[49m\u001b[38;5;241m.\u001b[39mradius)\n\u001b[0;32m      4\u001b[0m RedCircle\u001b[38;5;241m.\u001b[39madd_radius(\u001b[38;5;241m2\u001b[39m)\n\u001b[0;32m      5\u001b[0m \u001b[38;5;28mprint\u001b[39m(\u001b[38;5;124m'\u001b[39m\u001b[38;5;124mRadius of object of after applying the method add_radius(2):\u001b[39m\u001b[38;5;124m'\u001b[39m,RedCircle\u001b[38;5;241m.\u001b[39mradius)\n",
      "\u001b[1;31mNameError\u001b[0m: name 'RedCircle' is not defined"
     ]
    }
   ],
   "source": [
    "# Use method to change the object attribute radius\n",
    "\n",
    "print('Radius of object:',RedCircle.radius)\n",
    "RedCircle.add_radius(2)\n",
    "print('Radius of object of after applying the method add_radius(2):',RedCircle.radius)\n",
    "RedCircle.add_radius(5)\n",
    "print('Radius of object of after applying the method add_radius(5):',RedCircle.radius)"
   ]
  },
  {
   "cell_type": "markdown",
   "id": "70166ded-6240-4fd6-9356-6838b84fea22",
   "metadata": {},
   "source": [
    "Let’s create a blue circle. As the default colour is blue, all we have to do is specify what the radius is:"
   ]
  },
  {
   "cell_type": "code",
   "execution_count": null,
   "id": "b5ee9dbb-716d-4f79-bdc2-44e3cb87f3c8",
   "metadata": {},
   "outputs": [],
   "source": [
    "# Create a blue circle with a given radius\n",
    "\n",
    "BlueCircle = Circle(radius=100)"
   ]
  },
  {
   "cell_type": "markdown",
   "id": "0b33157f-789b-4513-a203-db7ad843cf0c",
   "metadata": {},
   "source": [
    "As before, we can access the attributes of the instance of the class by using the dot notation:"
   ]
  },
  {
   "cell_type": "code",
   "execution_count": null,
   "id": "0ff8fe58-cd4b-4dbd-ac4a-47b556221204",
   "metadata": {},
   "outputs": [],
   "source": [
    "# Print the object attribute radius\n",
    "\n",
    "BlueCircle.radius"
   ]
  },
  {
   "cell_type": "code",
   "execution_count": null,
   "id": "b21ea613-4bb0-4d7f-ac22-a114e6ac3568",
   "metadata": {},
   "outputs": [],
   "source": [
    "# Print the object attribute color\n",
    "\n",
    "BlueCircle.color"
   ]
  },
  {
   "cell_type": "markdown",
   "id": "45ee267e-714e-4c2c-90a6-a8e10a18b36d",
   "metadata": {},
   "source": [
    "### The Rectangle Class"
   ]
  },
  {
   "cell_type": "markdown",
   "id": "0f4ec108-82c0-4be1-a4fb-7423d1c1283c",
   "metadata": {},
   "source": [
    "Let's create a class rectangle with the attributes of height, width, and color. We will only add the method to draw the rectangle object:"
   ]
  },
  {
   "cell_type": "code",
   "execution_count": 3,
   "id": "9a24ed5c-6b73-4c39-ad40-7a4b87eb0251",
   "metadata": {},
   "outputs": [],
   "source": [
    "# Create a new Rectangle class for creating a rectangle object\n",
    "\n",
    "class Rectangle(object):\n",
    "    \n",
    "    # Constructor\n",
    "    def __init__(self, width=2, height=3, color='r'):\n",
    "        self.height = height \n",
    "        self.width = width\n",
    "        self.color = color\n",
    "    \n",
    "    # Method\n",
    "    def drawRectangle(self):\n",
    "        plt.gca().add_patch(plt.Rectangle((0, 0), self.width, self.height ,fc=self.color))\n",
    "        plt.axis('scaled')\n",
    "        plt.show()\n",
    "        "
   ]
  },
  {
   "cell_type": "markdown",
   "id": "ea60b273-0ccf-4fda-be1c-8a28afd4dd9d",
   "metadata": {},
   "source": [
    "Let’s create the object SkinnyBlueRectangle of type Rectangle. Its width will be 2 and height will be 3, and the color will be blue:"
   ]
  },
  {
   "cell_type": "code",
   "execution_count": null,
   "id": "57974e22-effc-43e8-8cb2-5260f32169bd",
   "metadata": {},
   "outputs": [],
   "source": [
    "# Create a new object rectangle\n",
    "\n",
    "SkinnyBlueRectangle = Rectangle(2, 3, 'blue')"
   ]
  },
  {
   "cell_type": "markdown",
   "id": "d78447ba-3947-43bb-a576-1c6bf991c3a9",
   "metadata": {},
   "source": [
    "# Scenario: Car dealership's inventory management system¶"
   ]
  },
  {
   "cell_type": "markdown",
   "id": "6cd43f61-2363-4b55-b0c4-1298cf919a81",
   "metadata": {},
   "source": [
    "### Task-1. You are tasked with creating a Python program to represent vehicles using a class. Each car should have attributes for maximum speed and mileage\n"
   ]
  },
  {
   "cell_type": "code",
   "execution_count": null,
   "id": "fe342b66-7687-4d79-a220-f5789c81e400",
   "metadata": {},
   "outputs": [],
   "source": [
    "#Type your code here\n",
    "class vehicles:\n",
    "    def __init__(self,max_speed,mileage):\n",
    "        self.max_speed = max_speed\n",
    "        self.mileage = mileage\n",
    "    "
   ]
  },
  {
   "cell_type": "markdown",
   "id": "3ec21f14-50a2-4b68-aab6-c9446d8296c7",
   "metadata": {},
   "source": [
    "\n",
    "### Task-2. Update the class with the default color for all vehicles,\" white\""
   ]
  },
  {
   "cell_type": "code",
   "execution_count": null,
   "id": "823606c2-71ed-40f6-bea0-09511e572fd2",
   "metadata": {},
   "outputs": [],
   "source": [
    "#Type your code here\n",
    "class vehicles:\n",
    "\n",
    "    color = \"white\"\n",
    "    def __init__(self,max_speed,mileage):\n",
    "        self.max_speed = max_speed\n",
    "        self.mileage = mileage\n",
    "        "
   ]
  },
  {
   "cell_type": "markdown",
   "id": "8d5d17cf-cc2b-40de-9763-d7025d9c3063",
   "metadata": {},
   "source": [
    "\n",
    "### Task-3. Additionally, you need to create methods in the Vehicle class to assign seating capacity to a vehicle."
   ]
  },
  {
   "cell_type": "code",
   "execution_count": null,
   "id": "8f6bb12d-65a9-486b-84f0-46422c8c7542",
   "metadata": {},
   "outputs": [],
   "source": [
    "#Type your code here\n",
    "class vehicles:\n",
    "    color = \"white\"\n",
    "    def __init__(self,color,mileage):\n",
    "        self.max_speed = max_speed\n",
    "        self.mileage = mileage\n",
    "        self.seating_capacity = None\n",
    "\n",
    "     def assign_seating_capacity(self,seating_capacity):\n",
    "         self.seating_capacity = seating_capacity\n",
    "        \n",
    "        "
   ]
  },
  {
   "cell_type": "markdown",
   "id": "d2794f24-cd14-4c51-a0a0-37842a5dabaf",
   "metadata": {},
   "source": [
    "# End"
   ]
  },
  {
   "cell_type": "code",
   "execution_count": null,
   "id": "3f221257-0579-4466-9a53-298127acfc94",
   "metadata": {},
   "outputs": [],
   "source": []
  },
  {
   "cell_type": "code",
   "execution_count": null,
   "id": "114af2cf-3eb3-4489-b58a-58c96f63da5c",
   "metadata": {},
   "outputs": [],
   "source": []
  },
  {
   "cell_type": "code",
   "execution_count": null,
   "id": "7e34f0a4-fc58-4811-9728-695feb2aaf94",
   "metadata": {},
   "outputs": [],
   "source": []
  },
  {
   "cell_type": "code",
   "execution_count": null,
   "id": "cc3ce12c-938c-4453-bfbb-646bb8fee9b4",
   "metadata": {},
   "outputs": [],
   "source": []
  }
 ],
 "metadata": {
  "kernelspec": {
   "display_name": "Python 3 (ipykernel)",
   "language": "python",
   "name": "python3"
  },
  "language_info": {
   "codemirror_mode": {
    "name": "ipython",
    "version": 3
   },
   "file_extension": ".py",
   "mimetype": "text/x-python",
   "name": "python",
   "nbconvert_exporter": "python",
   "pygments_lexer": "ipython3",
   "version": "3.12.6"
  }
 },
 "nbformat": 4,
 "nbformat_minor": 5
}

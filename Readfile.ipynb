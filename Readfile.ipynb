{
 "cells": [
  {
   "cell_type": "markdown",
   "id": "9fbef67f-3fea-4f37-b677-76b6d616aead",
   "metadata": {},
   "source": [
    "### Reading Files Python"
   ]
  },
  {
   "cell_type": "markdown",
   "id": "cdad436b-fc45-4792-9820-b519e6e978d0",
   "metadata": {},
   "source": [
    "\n",
    "### Download Data"
   ]
  },
  {
   "cell_type": "code",
   "execution_count": 1,
   "id": "14135558-bdc5-4595-92be-8c1b792db7c7",
   "metadata": {},
   "outputs": [],
   "source": [
    "## Uncomment these if working locally, else let the following code cell run.\n",
    "\n",
    "# import urllib.request\n",
    "# url = 'https://cf-courses-data.s3.us.cloud-object-storage.appdomain.cloud/IBMDeveloperSkillsNetwork-PY0101EN-SkillsNetwork/labs/Module%204/data/example1.txt'\n",
    "# filename = 'Example1.txt'\n",
    "# urllib.request.urlretrieve(url, filename)\n",
    "\n",
    "## Download Example file\n",
    "# !wget Example1.txt https://cf-courses-data.s3.us.cloud-object-storage.appdomain.cloud/IBMDeveloperSkillsNetwork-PY0101EN-SkillsNetwork/labs/Module%204/data/example1.txt"
   ]
  },
  {
   "cell_type": "markdown",
   "id": "8f0850e7-da08-4eae-bd8d-6f2987aa4c32",
   "metadata": {},
   "source": [
    "### read () for specific \n",
    "### readline() for read 1 line\n",
    "### readlines() for entire text"
   ]
  },
  {
   "cell_type": "code",
   "execution_count": null,
   "id": "626285e8-83ce-4185-ab95-cfbf57eeadb0",
   "metadata": {},
   "outputs": [],
   "source": [
    "from pyodide.http import pyfetch\n",
    "\n",
    "import pandas as pd\n",
    "\n",
    "filename = \"https://cf-courses-data.s3.us.cloud-object-storage.appdomain.cloud/IBMDeveloperSkillsNetwork-PY0101EN-SkillsNetwork/labs/Module%204/data/example1.txt\"\n",
    "\n",
    "async def download(url, filename):\n",
    "\n",
    "    response = await pyfetch(url)\n",
    "\n",
    "    if response.status == 200:\n",
    "\n",
    "        with open(filename, \"wb\") as f:\n",
    "\n",
    "            f.write(await response.bytes())\n",
    "\n",
    "await download(filename, \"example1.txt\")\n",
    "\n",
    "print(\"done\")\n"
   ]
  },
  {
   "cell_type": "markdown",
   "id": "7ac44120-76fa-4ed0-88c8-2e74d53f19d3",
   "metadata": {},
   "source": [
    "### Reading Text Files"
   ]
  },
  {
   "cell_type": "markdown",
   "id": "9aea3d0e-c268-423d-ae08-e59caa1385bd",
   "metadata": {},
   "source": [
    "One way to read or write a file in Python is to use the built-in open function. The open function provides a File object that contains the methods and attributes you need in order to read, save, and manipulate the file. In this notebook, we will only cover .txt files. The first parameter you need is the file path and the file name. An example is shown as follow:"
   ]
  },
  {
   "cell_type": "markdown",
   "id": "b8188dbb-651b-4966-92cd-9a8293bb291f",
   "metadata": {},
   "source": [
    "The mode argument is optional and the default value is r. In this notebook we only cover two modes:\n",
    "* **r**: Read mode for reading files\n",
    "* *w**: Write mode for writing files"
   ]
  },
  {
   "cell_type": "code",
   "execution_count": 13,
   "id": "2a9a4dcc-5796-4f54-b8ce-660b70cc1813",
   "metadata": {},
   "outputs": [
    {
     "name": "stdout",
     "output_type": "stream",
     "text": [
      "MERN full Stack - ( MongoDB, Express, React, Nodejs)\n",
      "\n",
      "1. Phase \n",
      "\n",
      "\t- HTML, CSS - Project - (Landing Page)\n",
      "\n",
      "2. Phase (Back-end)\n",
      "\n",
      "\t2.1 - JavaScript  ( No DOM )\n",
      "\t       - Basics ( for, foreach, map, filter ... etc) \n",
      "\t       - Advance (Callback, promises, Async .. etc)\n",
      "\n",
      "\n",
      "\t2.2 - Express JS\n",
      "\t\t- HTTP servers\n",
      "\t\t- CRUD\n",
      "\t\t- API - fetch\n",
      "\t\t- Auth & Aurth\n",
      "\t\t- RESTapi\n",
      "\n",
      "\t2.3 - DataBase - (Mongo-DB)\n",
      "\t\t- Mongoose\n",
      "\t\t- CRUD\n",
      "\t\t- API \n",
      "\t\t- db connect using String\n",
      "\n",
      "\t2.4 - Node js\n",
      "\n",
      "3. Phase (Front-end)\n",
      "\n",
      "\t3.1 - JavaScript - (DOM)\n",
      "\t\t- getDocument\n",
      "\t\t- state mangement'=\n",
      "\n",
      "\t3.2 - React \n",
      "\t\t- Components\n",
      "\t\t- states... etc\n",
      "\t\t\n",
      "\t\n"
     ]
    }
   ],
   "source": [
    "# Read the Example1.txt\n",
    "example1 =\"C:\\\\Users\\\\ayush\\\\OneDrive\\\\Documents\\\\MERN full Stack - Roadmap.txt\" # Always use escape sequence \\\\ \n",
    "file1 = open(example1, \"r\")\n",
    "file2 = file1.read()\n",
    "print(file2)\n",
    "\n"
   ]
  },
  {
   "cell_type": "markdown",
   "id": "365189b8-4a9f-49f2-bfeb-1b8a802b1f9c",
   "metadata": {},
   "source": [
    "The name of the file:"
   ]
  },
  {
   "cell_type": "code",
   "execution_count": null,
   "id": "ab55f0e0-2460-4a8a-acd9-aaf3ea0e8c04",
   "metadata": {},
   "outputs": [],
   "source": [
    "# Print the path of file\n",
    "\n",
    "file1.name"
   ]
  },
  {
   "cell_type": "markdown",
   "id": "45b5dc68-5101-4b9f-ad8a-04d7beda3c31",
   "metadata": {},
   "source": [
    "The mode the file object is in:"
   ]
  },
  {
   "cell_type": "code",
   "execution_count": null,
   "id": "bafa2c37-55b2-45f9-9b8d-84ff2d4d12bb",
   "metadata": {},
   "outputs": [],
   "source": [
    "# Print the mode of file, either 'r' or 'w'\n",
    "\n",
    "file1.mode\n",
    "\n"
   ]
  },
  {
   "cell_type": "markdown",
   "id": "54e37069-d094-4467-b0c2-0717cc98959d",
   "metadata": {},
   "source": [
    "We can read the file and assign it to a variable :"
   ]
  },
  {
   "cell_type": "code",
   "execution_count": null,
   "id": "23d032cc-0ec6-442f-9e96-0bdc9ecdf340",
   "metadata": {},
   "outputs": [],
   "source": [
    "# Read the file\n",
    "\n",
    "FileContent = file1.read()\n",
    "FileContent"
   ]
  },
  {
   "cell_type": "code",
   "execution_count": null,
   "id": "14a15fd8-1339-4461-8e0c-f906d326ebe1",
   "metadata": {},
   "outputs": [],
   "source": [
    "# Print the file with '\\n' as a new line\n",
    "\n",
    "print(FileContent)"
   ]
  },
  {
   "cell_type": "code",
   "execution_count": null,
   "id": "be5779c6-6b1d-43b7-8b74-6a48f8011dbb",
   "metadata": {},
   "outputs": [],
   "source": [
    "# Type of file content\n",
    "\n",
    "type(FileContent)"
   ]
  },
  {
   "cell_type": "markdown",
   "id": "de6bc0ef-7174-46fc-ae65-78871b4f1b3b",
   "metadata": {},
   "source": [
    "It is very important that the file is closed in the end. This frees up resources and ensures consistency across different python versions."
   ]
  },
  {
   "cell_type": "markdown",
   "id": "71f0eadc-117d-4f7f-b1fe-ac184e06ea86",
   "metadata": {},
   "source": [
    "### A Better Way to Open a File"
   ]
  },
  {
   "cell_type": "markdown",
   "id": "82bb41ab-939a-4ba0-8354-579ac5196c81",
   "metadata": {},
   "source": [
    "Using the with statement is better practice, it automatically closes the file even if the code encounters an exception. The code will run everything in the indent block then close the file object."
   ]
  },
  {
   "cell_type": "code",
   "execution_count": null,
   "id": "c66677a9-0d1a-4d2a-a56b-5e93e0a59168",
   "metadata": {},
   "outputs": [],
   "source": [
    "with open(example1,\"r\") as file1:\n",
    "    fileContent = file1.read()\n",
    "    print(fileContent)\n"
   ]
  },
  {
   "cell_type": "code",
   "execution_count": null,
   "id": "c55aefb4-1f47-47b3-ba9e-7d22b033bd42",
   "metadata": {},
   "outputs": [],
   "source": [
    "# Verify if the file is closed\n",
    "\n",
    "file1.closed"
   ]
  },
  {
   "cell_type": "markdown",
   "id": "e19067e7-9351-44f1-83ca-ef26fa3ea600",
   "metadata": {},
   "source": [
    "### We don’t have to read the entire file, for example, we can read the first 4 characters by entering three as a parameter to the method ** .read(): **"
   ]
  },
  {
   "cell_type": "code",
   "execution_count": null,
   "id": "57254e94-e387-4b8f-98e3-b737797d5a63",
   "metadata": {},
   "outputs": [],
   "source": [
    "# Read first four characters\n",
    "\n",
    "with open(example1, \"r\") as file1:\n",
    "    print(file1.read(4))\n",
    "    # we can write it as\n",
    "    fileContent = file1.read(4)\n",
    "    print(fileContent)"
   ]
  },
  {
   "cell_type": "markdown",
   "id": "9f86ddc0-8c5a-4778-81b1-ed10acdf87f2",
   "metadata": {},
   "source": [
    "Once the method .read(4) is called the first 4 characters are called. If we call the method again, the next 4 characters are called. The output for the following cell will demonstrate the process for different inputs to the method read()"
   ]
  },
  {
   "cell_type": "code",
   "execution_count": null,
   "id": "e7e4764f-83be-4108-98b0-4830d1807dc3",
   "metadata": {},
   "outputs": [],
   "source": [
    "# Read certain amount of characters\n",
    "\n",
    "with open(example1, \"r\") as file1:\n",
    "    print(file1.read(4))\n",
    "    print(file1.read(4))\n",
    "    print(file1.read(7))\n",
    "    print(file1.read(15))"
   ]
  },
  {
   "cell_type": "markdown",
   "id": "879edc02-9e3c-4f72-8736-3433c2a6fc5e",
   "metadata": {},
   "source": [
    "We can also read one line of the file at a time using the method readline():"
   ]
  },
  {
   "cell_type": "code",
   "execution_count": null,
   "id": "6d246dce-6883-47bc-91a9-0361034798b4",
   "metadata": {},
   "outputs": [],
   "source": [
    "# Read one line\n",
    "\n",
    "with open(example1, \"r\") as file1:\n",
    "    print(\"first line: \" + file1.readline())"
   ]
  },
  {
   "cell_type": "markdown",
   "id": "6e7cdcec-64cd-4de9-ac67-e621486afefa",
   "metadata": {},
   "source": [
    "We can also pass an argument to  readline()  to specify the number of charecters we want to read. However, unlike  read(),  readline() can only read one line at most."
   ]
  },
  {
   "cell_type": "code",
   "execution_count": null,
   "id": "8a4d13f8-e20d-4a32-8459-d312e9534489",
   "metadata": {},
   "outputs": [],
   "source": [
    "with open(example1, \"r\") as file1:\n",
    "    print(file1.readline(20)) # does not read past the end of line\n",
    "    print(file1.read(20)) # Returns the next 20 chars\n"
   ]
  },
  {
   "cell_type": "code",
   "execution_count": null,
   "id": "ec3ed756-980d-4920-a613-e2038c79dbeb",
   "metadata": {},
   "outputs": [],
   "source": [
    "# Iterate through the lines\n",
    "\n",
    "with open(example1,\"r\") as file1:\n",
    "        i = 0;\n",
    "        for line in file1:\n",
    "            print(\"Iteration\", str(i), \": \", line)\n",
    "            i = i + 1"
   ]
  },
  {
   "cell_type": "markdown",
   "id": "03732127-aebb-4ab9-abd8-3682c99eebd9",
   "metadata": {},
   "source": [
    "\n",
    "We can use the method readlines() to save the text file to a list:"
   ]
  },
  {
   "cell_type": "code",
   "execution_count": null,
   "id": "22c39728-a67e-4d60-b03b-6ced5f52a36c",
   "metadata": {},
   "outputs": [],
   "source": [
    "# Read all lines and save as a list\n",
    "\n",
    "with open(example1, \"r\") as file1:\n",
    "    FileasList = file1.readlines()"
   ]
  },
  {
   "cell_type": "code",
   "execution_count": null,
   "id": "ad9ec69e-451d-41cb-83fb-d4ac07c2131b",
   "metadata": {},
   "outputs": [],
   "source": [
    "# Print the first line\n",
    "\n",
    "FileasList[0]\n"
   ]
  },
  {
   "cell_type": "code",
   "execution_count": null,
   "id": "a2c50a0b-64f6-4da1-89db-ae68c923b3b4",
   "metadata": {},
   "outputs": [],
   "source": [
    "# Print the second line\n",
    "\n",
    "FileasList[1]"
   ]
  },
  {
   "cell_type": "code",
   "execution_count": null,
   "id": "dd6c4efd-5fa6-40df-9e76-83076d81d734",
   "metadata": {},
   "outputs": [],
   "source": [
    "# Print the third line\n",
    "\n",
    "FileasList[2]"
   ]
  },
  {
   "cell_type": "markdown",
   "id": "c6955e54-a9e0-4d40-a7f1-a51f66f48d35",
   "metadata": {},
   "source": [
    "# End"
   ]
  },
  {
   "cell_type": "code",
   "execution_count": null,
   "id": "893ac8f5-c0c5-4f83-b06d-16f35c6f7463",
   "metadata": {},
   "outputs": [],
   "source": []
  }
 ],
 "metadata": {
  "kernelspec": {
   "display_name": "Python 3 (ipykernel)",
   "language": "python",
   "name": "python3"
  },
  "language_info": {
   "codemirror_mode": {
    "name": "ipython",
    "version": 3
   },
   "file_extension": ".py",
   "mimetype": "text/x-python",
   "name": "python",
   "nbconvert_exporter": "python",
   "pygments_lexer": "ipython3",
   "version": "3.12.6"
  }
 },
 "nbformat": 4,
 "nbformat_minor": 5
}

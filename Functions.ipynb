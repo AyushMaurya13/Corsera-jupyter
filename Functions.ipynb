{
 "cells": [
  {
   "cell_type": "markdown",
   "id": "9ee3e675-2a19-49f9-b163-2e34d5816e1d",
   "metadata": {},
   "source": [
    "# Function"
   ]
  },
  {
   "cell_type": "markdown",
   "id": "714036e8-512a-4203-8895-7870ac92f847",
   "metadata": {},
   "source": [
    "1. A function is a block of code which only runs when it is called.\n",
    "\n",
    "2. You can pass data, known as parameters, into a function.\n",
    "\n",
    "3. A function can return data as a result."
   ]
  },
  {
   "cell_type": "markdown",
   "id": "2c593245-7412-4932-81d2-e2028e78092a",
   "metadata": {},
   "source": [
    "Benefits of using functions\n",
    "1. Modularity: Functions break down complex tasks into manageable components\n",
    "2. Reusability: Functions can be used multiple times without rewriting code\n",
    "3. Readability: Functions with meaningful names enhance code understanding\n",
    "4. Debugging: Isolating functions eases troubleshooting and issue fixing\n",
    "5. Abstraction: Functions simplify complex processes behind a user-friendly interface\n",
    "6. Collaboration: Team members can work on different functions concurrently\n",
    "7. Maintenance: Changes made in a function automatically apply wherever it's used"
   ]
  },
  {
   "cell_type": "markdown",
   "id": "38af507c-4677-4948-b72f-068be1d2e542",
   "metadata": {},
   "source": [
    "* In Python a function is defined using the def keyword:"
   ]
  },
  {
   "cell_type": "code",
   "execution_count": 7,
   "id": "f208997b-8c68-436b-bc7a-2d6152c06857",
   "metadata": {},
   "outputs": [
    {
     "name": "stdout",
     "output_type": "stream",
     "text": [
      "Hello from a function\n"
     ]
    }
   ],
   "source": [
    "def my_function():\n",
    "  print(\"Hello from a function\")\n",
    "my_function()"
   ]
  },
  {
   "cell_type": "code",
   "execution_count": 4,
   "id": "509a11c1-ef2d-4dc4-bd8a-8a2e99563409",
   "metadata": {},
   "outputs": [
    {
     "data": {
      "text/plain": [
       "5"
      ]
     },
     "execution_count": 4,
     "metadata": {},
     "output_type": "execute_result"
    }
   ],
   "source": [
    "def add1(a,c):#a and c is parameter of this function\n",
    "    b=a+c\n",
    "    return b #always use return in function\n",
    "add1(1,4) # here function call"
   ]
  },
  {
   "cell_type": "code",
   "execution_count": 15,
   "id": "9cf1741b-4a85-4e13-8754-fef79ae83651",
   "metadata": {},
   "outputs": [
    {
     "data": {
      "text/plain": [
       "6"
      ]
     },
     "execution_count": 15,
     "metadata": {},
     "output_type": "execute_result"
    }
   ],
   "source": [
    "def add1(b):\n",
    "    b = 6 # here b = 6 so return 6 not 5 \n",
    "    return b\n",
    "add1(5) # here b is 5 but b = 6 after that so function return 6\n"
   ]
  },
  {
   "cell_type": "code",
   "execution_count": 13,
   "id": "594af314-2ea1-4b61-9ada-07139f9d45a0",
   "metadata": {},
   "outputs": [
    {
     "data": {
      "text/plain": [
       "3"
      ]
     },
     "execution_count": 13,
     "metadata": {},
     "output_type": "execute_result"
    }
   ],
   "source": [
    "# same as upper \n",
    "def add2(a):\n",
    "    b=a+1\n",
    "    return b\n",
    "add2(2)"
   ]
  },
  {
   "cell_type": "markdown",
   "id": "324d1be3-9056-4edb-83bb-5449758740ca",
   "metadata": {},
   "source": [
    "### Function Parameters:"
   ]
  },
  {
   "cell_type": "markdown",
   "id": "d071f0be-7359-42bd-a3c6-074407acfe08",
   "metadata": {},
   "source": [
    "* Parameters are like inputs for functions\n",
    "They go inside parentheses when defining the function\n",
    "Functions can have multiple parameters"
   ]
  },
  {
   "cell_type": "code",
   "execution_count": 37,
   "id": "b17ca1b2-696e-4a17-85f0-fd577d102831",
   "metadata": {},
   "outputs": [
    {
     "name": "stdout",
     "output_type": "stream",
     "text": [
      "Hello, Alice\n",
      "None\n"
     ]
    }
   ],
   "source": [
    "def greet(name):\n",
    "    print(\"Hello, \" + name)\n",
    "result = greet(\"Alice\")\n",
    "print(result)  # Output: Hello, Alice"
   ]
  },
  {
   "cell_type": "code",
   "execution_count": null,
   "id": "4907d2e8-1711-4238-aa37-2e93f733a580",
   "metadata": {},
   "outputs": [],
   "source": []
  },
  {
   "cell_type": "code",
   "execution_count": null,
   "id": "65eda6fc-3d27-4d41-90c2-3bd20148272a",
   "metadata": {},
   "outputs": [],
   "source": []
  },
  {
   "cell_type": "markdown",
   "id": "d5b94cf9-b903-44f6-a314-a822f9f92dac",
   "metadata": {},
   "source": [
    "### Multiple Parameter"
   ]
  },
  {
   "cell_type": "markdown",
   "id": "c3a7a657-67a9-4813-9039-54c4794ca6ef",
   "metadata": {},
   "source": [
    "A function can have multiple parameters "
   ]
  },
  {
   "cell_type": "code",
   "execution_count": 17,
   "id": "93ccb38c-3405-4645-acd8-0a70bc9f6b2a",
   "metadata": {},
   "outputs": [
    {
     "data": {
      "text/plain": [
       "12.0"
      ]
     },
     "execution_count": 17,
     "metadata": {},
     "output_type": "execute_result"
    }
   ],
   "source": [
    "def multi(a,b):\n",
    "    c = a*b\n",
    "    return c\n",
    "multi(3,2) # output is 6\n",
    "multi(10,1.2) "
   ]
  },
  {
   "cell_type": "code",
   "execution_count": 18,
   "id": "10c63353-9b2a-4bd3-82bb-620d6285b990",
   "metadata": {},
   "outputs": [
    {
     "data": {
      "text/plain": [
       "'my_namemy_name'"
      ]
     },
     "execution_count": 18,
     "metadata": {},
     "output_type": "execute_result"
    }
   ],
   "source": [
    "def multi(a,b):\n",
    "    c = a*b\n",
    "    return c #return name 2 time\n",
    "\n",
    "multi(2,\"my_name\")"
   ]
  },
  {
   "cell_type": "markdown",
   "id": "9489bf61-1df7-483e-b303-2c8894a48556",
   "metadata": {},
   "source": [
    "### Function without a return statement "
   ]
  },
  {
   "cell_type": "code",
   "execution_count": 20,
   "id": "791846cf-5969-48a0-8fda-b3039916e6ce",
   "metadata": {},
   "outputs": [
    {
     "name": "stdout",
     "output_type": "stream",
     "text": [
      "My_name\n"
     ]
    }
   ],
   "source": [
    "def Mj():\n",
    "    print(\"My_name\")\n",
    "\n",
    "Mj()"
   ]
  },
  {
   "cell_type": "markdown",
   "id": "94daba08-b966-4443-8ba1-6ad58d5cd5c1",
   "metadata": {},
   "source": [
    "### Function with an empty body"
   ]
  },
  {
   "cell_type": "code",
   "execution_count": 22,
   "id": "9a5ec171-b184-4a1c-99df-2f968cb071af",
   "metadata": {},
   "outputs": [
    {
     "name": "stdout",
     "output_type": "stream",
     "text": [
      "None\n"
     ]
    }
   ],
   "source": [
    "def NoWork():\n",
    "    pass\n",
    "\n",
    "print(NoWork())"
   ]
  },
  {
   "cell_type": "markdown",
   "id": "ae366cee-8461-4047-934a-153c2b2e529b",
   "metadata": {},
   "source": [
    "### Function performing multiple tasks"
   ]
  },
  {
   "cell_type": "code",
   "execution_count": 29,
   "id": "b0b25668-1439-4c78-bd9b-e3374ef1a1e6",
   "metadata": {},
   "outputs": [
    {
     "ename": "IndentationError",
     "evalue": "unexpected indent (1399784133.py, line 5)",
     "output_type": "error",
     "traceback": [
      "\u001b[1;36m  Cell \u001b[1;32mIn[29], line 5\u001b[1;36m\u001b[0m\n\u001b[1;33m    return b\u001b[0m\n\u001b[1;37m    ^\u001b[0m\n\u001b[1;31mIndentationError\u001b[0m\u001b[1;31m:\u001b[0m unexpected indent\n"
     ]
    }
   ],
   "source": [
    "def add1 (a): ## cheack it at ones\n",
    "    b= a+1;\n",
    "\n",
    "print(a,\"plus 1 equals\",b)\n",
    "    return b\n",
    "\n",
    "add1(1)"
   ]
  },
  {
   "cell_type": "markdown",
   "id": "a8a2fd94-57f5-43cb-a108-a59cf56fc4ce",
   "metadata": {},
   "source": [
    "### Using loops in functions"
   ]
  },
  {
   "cell_type": "code",
   "execution_count": 32,
   "id": "0d436c21-68ad-47ae-b3ca-411143f7776e",
   "metadata": {},
   "outputs": [
    {
     "name": "stdout",
     "output_type": "stream",
     "text": [
      "Album 0 Rating is  10.0\n",
      "Album 1 Rating is  8.7\n",
      "Album 2 Rating is  7.6\n"
     ]
    }
   ],
   "source": [
    "def printStuff(stuff): # learn about it\n",
    "    for i , s in enumerate(stuff):\n",
    "        print(\"Album\",i,\"Rating is \",s)\n",
    "\n",
    "album_ratings = [10.0,8.7,7.6]\n",
    "printStuff(album_ratings)"
   ]
  },
  {
   "cell_type": "markdown",
   "id": "9cc9e6fa-266e-40a0-a110-2e01c877ebdf",
   "metadata": {},
   "source": [
    "Example:\n",
    "\n",
    "Consider a function named calculate_total that takes two numbers as input (parameters), adds them together, and then produces the sum as the output. Here's how it works:"
   ]
  },
  {
   "cell_type": "code",
   "execution_count": 34,
   "id": "a7cb2209-0bb8-4f15-aec6-fe2a55b20214",
   "metadata": {},
   "outputs": [
    {
     "name": "stdout",
     "output_type": "stream",
     "text": [
      "12\n"
     ]
    }
   ],
   "source": [
    "def calculate_total(a, b):  # Parameters: a and b\n",
    "    total = a + b           # Task: Addition\n",
    "    return total            # Output: Sum of a and b\n",
    "result = calculate_total(5, 7)  # Calling the function with inputs 5 and 7\n",
    "print(result)  # Output: 12"
   ]
  },
  {
   "cell_type": "markdown",
   "id": "97f605de-ab88-4968-b84e-d53ee2921f6f",
   "metadata": {},
   "source": [
    "# Python's built-in functions"
   ]
  },
  {
   "cell_type": "code",
   "execution_count": 35,
   "id": "65b80db2-337f-4872-bd38-d4ca3a6688cc",
   "metadata": {},
   "outputs": [],
   "source": [
    "# len(): Calculates the length of a sequence or collection\n",
    "\n",
    "string_length = len(\"Hello, World!\")  # Output: 13\n",
    "list_length = len([1, 2, 3, 4, 5])   # Output: 5"
   ]
  },
  {
   "cell_type": "code",
   "execution_count": 36,
   "id": "9e6a9e73-e45c-45ef-9eda-d7f9ac66f4b5",
   "metadata": {},
   "outputs": [],
   "source": [
    "# sum(): Adds up the elements in an iterable (list, tuple, and so on)\n",
    "total = sum([10, 20, 30, 40, 50])  # Output: 150"
   ]
  },
  {
   "cell_type": "code",
   "execution_count": null,
   "id": "5da3a509-404c-481f-a00a-2e97f732a364",
   "metadata": {},
   "outputs": [],
   "source": [
    "# max(): Returns the maximum value in an iterable\n",
    "highest = max([5, 12, 8, 23, 16])  # Output: 23"
   ]
  },
  {
   "cell_type": "code",
   "execution_count": null,
   "id": "aaa6eb42-ec8f-4844-9b0c-aea09a3213d5",
   "metadata": {},
   "outputs": [],
   "source": [
    "# min(): Returns the minimum value in an iterable\n",
    "lowest = min([5, 12, 8, 23, 16])  # Output: 5"
   ]
  },
  {
   "cell_type": "markdown",
   "id": "f57dd6cc-46f9-4f72-8a46-0ae2690e4859",
   "metadata": {},
   "source": [
    "### Using if/else Statements and Loops in Functions¶"
   ]
  },
  {
   "cell_type": "code",
   "execution_count": 38,
   "id": "293bd0b0-210b-4942-8542-d66de3e45a20",
   "metadata": {},
   "outputs": [
    {
     "name": "stdout",
     "output_type": "stream",
     "text": [
      "Michael Jackson Thriller 1980\n",
      "Oldie\n"
     ]
    }
   ],
   "source": [
    "# Function example\n",
    "\n",
    "def type_of_album(artist, album, year_released):\n",
    "    \n",
    "    print(artist, album, year_released)\n",
    "    if year_released > 1980:\n",
    "        return \"Modern\"\n",
    "    else:\n",
    "        return \"Oldie\"\n",
    "    \n",
    "x = type_of_album(\"Michael Jackson\", \"Thriller\", 1980)\n",
    "print(x)"
   ]
  },
  {
   "cell_type": "code",
   "execution_count": 39,
   "id": "75e0eaf8-a975-4b4e-ab4a-3b40742aff0e",
   "metadata": {},
   "outputs": [],
   "source": [
    "# Print the list using for loop\n",
    "\n",
    "def PrintList(the_list):\n",
    "    for element in the_list:\n",
    "        print(element)"
   ]
  },
  {
   "cell_type": "markdown",
   "id": "913f3127-8949-40df-bb09-fdf1bba902f7",
   "metadata": {},
   "source": [
    "\n",
    "### String comparison in Functions"
   ]
  },
  {
   "cell_type": "code",
   "execution_count": 44,
   "id": "11d740bf-7490-4a2e-a8ea-04dc9c8c23af",
   "metadata": {},
   "outputs": [
    {
     "data": {
      "text/plain": [
       "'String matched'"
      ]
     },
     "execution_count": 44,
     "metadata": {},
     "output_type": "execute_result"
    }
   ],
   "source": [
    "#Compare Two Strings Directly using in operator\n",
    "# add string\n",
    "string= \"Michael Jackson is the best\"\n",
    "\n",
    "# Define a funtion\n",
    "def check_string(text):\n",
    "    \n",
    "# Use if else statement and 'in' operatore to compare the string\n",
    "    if text in string:\n",
    "        return 'String matched'\n",
    "    else:\n",
    "        return 'String not matched'\n",
    "\n",
    "check_string(\"Michael Jackson is the best\")"
   ]
  },
  {
   "cell_type": "code",
   "execution_count": 45,
   "id": "e8a3ba00-0e57-466b-bc93-f03cdf61f1db",
   "metadata": {},
   "outputs": [
    {
     "name": "stdout",
     "output_type": "stream",
     "text": [
      "\n",
      "String Matched\n"
     ]
    }
   ],
   "source": [
    "#Compare two strings using == operator and function\n",
    "def compareStrings(x, y):\n",
    "# Use if else statement to compare x and y\n",
    "    if x==y:\n",
    "        return 1\n",
    "    \n",
    "# Declare two different variables as string1 and string2 and pass string in it\n",
    "string1 = \"Michael Jackson is the best\"\n",
    "string2 = \"Michael Jackson is the best\"\n",
    "\n",
    "# Declare a variable to store result after comparing both the strings\n",
    "check = compareStrings(string1, string2)\n",
    "\n",
    "#Use if else statement to compare the string\n",
    "if check==1:\n",
    "    print(\"\\nString Matched\")\n",
    "else:\n",
    "    print(\"\\nString not Matched\")"
   ]
  },
  {
   "cell_type": "code",
   "execution_count": 46,
   "id": "84c522a2-8e76-4d44-bacd-7efa438ef1a8",
   "metadata": {},
   "outputs": [
    {
     "name": "stdout",
     "output_type": "stream",
     "text": [
      "The Frequency of words is: {'Mary': 6, 'had': 2, 'a': 2, 'little': 3, 'lamb': 3, 'Little': 1, 'lamb,': 1, 'lamb.Its': 1, 'fleece': 1, 'was': 2, 'white': 1, 'as': 1, 'snow': 1, 'And': 1, 'everywhere': 1, 'that': 2, 'went': 3, 'went,': 1, 'Everywhere': 1, 'The': 1, 'sure': 1, 'to': 1, 'go': 1}\n"
     ]
    }
   ],
   "source": [
    "# Python Program to Count words in a String using Dictionary\n",
    "def freq(string):\n",
    "    \n",
    "    #step1: A list variable is declared and initialized to an empty list.\n",
    "    words = []\n",
    "    \n",
    "    #step2: Break the string into list of words\n",
    "    words = string.split() # or string.lower().split()\n",
    "    \n",
    "    #step3: Declare a dictionary\n",
    "    Dict = {}\n",
    "    \n",
    "    #step4: Use for loop to iterate words and values to the dictionary\n",
    "    for key in words:\n",
    "        Dict[key] = words.count(key)\n",
    "        \n",
    "    #step5: Print the dictionary\n",
    "    print(\"The Frequency of words is:\",Dict)\n",
    "    \n",
    "#step6: Call function and pass string in it\n",
    "freq(\"Mary had a little lamb Little lamb, little lamb Mary had a little lamb.Its fleece was white as snow And everywhere that Mary went Mary went, Mary went \\\n",
    "Everywhere that Mary went The lamb was sure to go\")"
   ]
  },
  {
   "cell_type": "markdown",
   "id": "b3d72bb8-8023-4d84-8100-7204a70fffd0",
   "metadata": {},
   "source": [
    "### Setting default argument values in your custom functions"
   ]
  },
  {
   "cell_type": "code",
   "execution_count": 47,
   "id": "0a48bb32-79c0-4459-9c15-024205a4171e",
   "metadata": {},
   "outputs": [],
   "source": [
    "# Example for setting param with default value\n",
    "\n",
    "def isGoodRating(rating=4): \n",
    "    if(rating < 7):\n",
    "        print(\"this album sucks it's rating is\",rating)\n",
    "        \n",
    "    else:\n",
    "        print(\"this album is good its rating is\",rating)\n"
   ]
  },
  {
   "cell_type": "code",
   "execution_count": 48,
   "id": "088407ab-74c8-4ad4-8d16-646d06e56c6d",
   "metadata": {},
   "outputs": [
    {
     "name": "stdout",
     "output_type": "stream",
     "text": [
      "this album sucks it's rating is 4\n",
      "this album is good its rating is 10\n"
     ]
    }
   ],
   "source": [
    "# Test the value with default value and with input\n",
    "\n",
    "isGoodRating()\n",
    "isGoodRating(10)"
   ]
  },
  {
   "cell_type": "markdown",
   "id": "17c7fc75-2ffc-4b59-b487-06d346d17008",
   "metadata": {},
   "source": [
    "\n",
    "### Global variables"
   ]
  },
  {
   "cell_type": "code",
   "execution_count": 50,
   "id": "e99c78e8-bec0-4eb5-9874-06a4549de654",
   "metadata": {},
   "outputs": [
    {
     "name": "stdout",
     "output_type": "stream",
     "text": [
      "Michael Jackson is an artist\n"
     ]
    }
   ],
   "source": [
    "# Example of global variable\n",
    "\n",
    "artist = \"Michael Jackson\" # This is globle variable cause it declere outside function \n",
    "def printer1(artist):\n",
    "    internal_var1 = artist\n",
    "    print(artist, \"is an artist\")\n",
    "    \n",
    "printer1(artist)\n",
    "# try runningthe following code\n",
    "#printer1(internal_var1) "
   ]
  },
  {
   "cell_type": "code",
   "execution_count": 51,
   "id": "f3040668-8341-4e91-ad51-88025226bccc",
   "metadata": {},
   "outputs": [
    {
     "name": "stdout",
     "output_type": "stream",
     "text": [
      "Michael Jackson is an artist\n",
      "Whitney Houston is an artist\n"
     ]
    }
   ],
   "source": [
    "artist = \"Michael Jackson\"\n",
    "\n",
    "def printer(artist):\n",
    "    global internal_var \n",
    "    internal_var= \"Whitney Houston\"\n",
    "    print(artist,\"is an artist\")\n",
    "\n",
    "printer(artist) \n",
    "printer(internal_var)"
   ]
  },
  {
   "cell_type": "markdown",
   "id": "33071e99-ed60-4bb5-9830-35eabd6df981",
   "metadata": {},
   "source": [
    "### Scope of a Variable"
   ]
  },
  {
   "cell_type": "code",
   "execution_count": 52,
   "id": "11760448-0aad-4719-b5da-7ba8361a9beb",
   "metadata": {},
   "outputs": [
    {
     "name": "stdout",
     "output_type": "stream",
     "text": [
      "AC/DC's rating is: 10.0\n",
      "Deep Purple's rating is: 0.0\n",
      "My favourite band is: AC/DC\n"
     ]
    }
   ],
   "source": [
    "# Example of global variable\n",
    "\n",
    "myFavouriteBand = \"AC/DC\"\n",
    "\n",
    "def getBandRating(bandname):\n",
    "    if bandname == myFavouriteBand:\n",
    "        return 10.0\n",
    "    else:\n",
    "        return 0.0\n",
    "\n",
    "print(\"AC/DC's rating is:\", getBandRating(\"AC/DC\"))\n",
    "print(\"Deep Purple's rating is:\",getBandRating(\"Deep Purple\"))\n",
    "print(\"My favourite band is:\", myFavouriteBand)"
   ]
  },
  {
   "cell_type": "code",
   "execution_count": 53,
   "id": "0f5e9fc0-9d20-41ed-81a0-51fa687535e4",
   "metadata": {},
   "outputs": [
    {
     "name": "stdout",
     "output_type": "stream",
     "text": [
      "AC/DC's rating is:  10.0\n",
      "Deep Purple's rating is:  0.0\n"
     ]
    },
    {
     "ename": "NameError",
     "evalue": "name 'myFavouriteBand' is not defined",
     "output_type": "error",
     "traceback": [
      "\u001b[1;31m---------------------------------------------------------------------------\u001b[0m",
      "\u001b[1;31mNameError\u001b[0m                                 Traceback (most recent call last)",
      "Cell \u001b[1;32mIn[53], line 16\u001b[0m\n\u001b[0;32m     14\u001b[0m \u001b[38;5;28mprint\u001b[39m(\u001b[38;5;124m\"\u001b[39m\u001b[38;5;124mAC/DC\u001b[39m\u001b[38;5;124m'\u001b[39m\u001b[38;5;124ms rating is: \u001b[39m\u001b[38;5;124m\"\u001b[39m, getBandRating(\u001b[38;5;124m\"\u001b[39m\u001b[38;5;124mAC/DC\u001b[39m\u001b[38;5;124m\"\u001b[39m))\n\u001b[0;32m     15\u001b[0m \u001b[38;5;28mprint\u001b[39m(\u001b[38;5;124m\"\u001b[39m\u001b[38;5;124mDeep Purple\u001b[39m\u001b[38;5;124m'\u001b[39m\u001b[38;5;124ms rating is: \u001b[39m\u001b[38;5;124m\"\u001b[39m, getBandRating(\u001b[38;5;124m\"\u001b[39m\u001b[38;5;124mDeep Purple\u001b[39m\u001b[38;5;124m\"\u001b[39m))\n\u001b[1;32m---> 16\u001b[0m \u001b[38;5;28mprint\u001b[39m(\u001b[38;5;124m\"\u001b[39m\u001b[38;5;124mMy favourite band is\u001b[39m\u001b[38;5;124m\"\u001b[39m, \u001b[43mmyFavouriteBand\u001b[49m)\n",
      "\u001b[1;31mNameError\u001b[0m: name 'myFavouriteBand' is not defined"
     ]
    }
   ],
   "source": [
    "# Deleting the variable \"myFavouriteBand\" from the previous example to demonstrate an example of a local variable \n",
    "\n",
    "del myFavouriteBand\n",
    "\n",
    "# Example of local variable\n",
    "\n",
    "def getBandRating(bandname):\n",
    "    myFavouriteBand = \"AC/DC\"\n",
    "    if bandname == myFavouriteBand:\n",
    "        return 10.0\n",
    "    else:\n",
    "        return 0.0\n",
    "\n",
    "print(\"AC/DC's rating is: \", getBandRating(\"AC/DC\"))\n",
    "print(\"Deep Purple's rating is: \", getBandRating(\"Deep Purple\"))\n",
    "print(\"My favourite band is\", myFavouriteBand)"
   ]
  },
  {
   "cell_type": "code",
   "execution_count": 54,
   "id": "e2206215-c07f-4634-8210-8f39f7cc25d5",
   "metadata": {},
   "outputs": [
    {
     "name": "stdout",
     "output_type": "stream",
     "text": [
      "AC/DC's rating is: 0.0\n",
      "Deep Purple's rating is:  10.0\n",
      "My favourite band is: AC/DC\n"
     ]
    }
   ],
   "source": [
    "# Example of global variable and local variable with the same name\n",
    "\n",
    "myFavouriteBand = \"AC/DC\"\n",
    "\n",
    "def getBandRating(bandname):\n",
    "    myFavouriteBand = \"Deep Purple\"\n",
    "    if bandname == myFavouriteBand:\n",
    "        return 10.0\n",
    "    else:\n",
    "        return 0.0\n",
    "\n",
    "print(\"AC/DC's rating is:\",getBandRating(\"AC/DC\"))\n",
    "print(\"Deep Purple's rating is: \",getBandRating(\"Deep Purple\"))\n",
    "print(\"My favourite band is:\",myFavouriteBand)"
   ]
  },
  {
   "cell_type": "markdown",
   "id": "d7f9e332-2963-446b-9710-31cdd0bb9a69",
   "metadata": {},
   "source": [
    "### Collections and Functions"
   ]
  },
  {
   "cell_type": "code",
   "execution_count": 55,
   "id": "a1408c49-954b-4975-b4ea-3acbeea87584",
   "metadata": {},
   "outputs": [
    {
     "name": "stdout",
     "output_type": "stream",
     "text": [
      "No of arguments: 3\n",
      "Horsefeather\n",
      "Adonis\n",
      "Bone\n",
      "No of arguments: 4\n",
      "Sidecar\n",
      "Long Island\n",
      "Mudslide\n",
      "Carriage\n"
     ]
    }
   ],
   "source": [
    "def printAll(*args): # All the arguments are 'packed' into args which can be treated like a tuple\n",
    "    print(\"No of arguments:\", len(args)) \n",
    "    for argument in args:\n",
    "        print(argument)\n",
    "#printAll with 3 arguments\n",
    "printAll('Horsefeather','Adonis','Bone')\n",
    "#printAll with 4 arguments\n",
    "printAll('Sidecar','Long Island','Mudslide','Carriage')"
   ]
  },
  {
   "cell_type": "code",
   "execution_count": 56,
   "id": "12431208-8807-4476-ae99-05ce306b7502",
   "metadata": {},
   "outputs": [
    {
     "name": "stdout",
     "output_type": "stream",
     "text": [
      "Country : Canada\n",
      "Province : Ontario\n",
      "City : Toronto\n"
     ]
    }
   ],
   "source": [
    "def printDictionary(**args):\n",
    "    for key in args:\n",
    "        print(key + \" : \" + args[key])\n",
    "\n",
    "printDictionary(Country='Canada',Province='Ontario',City='Toronto')\n",
    "    "
   ]
  },
  {
   "cell_type": "code",
   "execution_count": null,
   "id": "8ce8226a-2e09-4c39-a26e-02b59dd60edc",
   "metadata": {},
   "outputs": [],
   "source": []
  },
  {
   "cell_type": "code",
   "execution_count": null,
   "id": "cfacc71a-2a83-41f6-8f8e-8a16154112ad",
   "metadata": {},
   "outputs": [],
   "source": []
  },
  {
   "cell_type": "code",
   "execution_count": null,
   "id": "3ccc0e7c-8109-496f-861a-1a547e66d738",
   "metadata": {},
   "outputs": [],
   "source": []
  }
 ],
 "metadata": {
  "kernelspec": {
   "display_name": "Python 3 (ipykernel)",
   "language": "python",
   "name": "python3"
  },
  "language_info": {
   "codemirror_mode": {
    "name": "ipython",
    "version": 3
   },
   "file_extension": ".py",
   "mimetype": "text/x-python",
   "name": "python",
   "nbconvert_exporter": "python",
   "pygments_lexer": "ipython3",
   "version": "3.12.6"
  }
 },
 "nbformat": 4,
 "nbformat_minor": 5
}

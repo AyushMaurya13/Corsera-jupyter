{
 "cells": [
  {
   "cell_type": "markdown",
   "id": "f1c06a75-8124-4749-9043-eaa9e8a0b3ed",
   "metadata": {},
   "source": [
    "# Tuples "
   ]
  },
  {
   "cell_type": "markdown",
   "id": "89f22c43-e17d-403e-a985-74df91fd1242",
   "metadata": {},
   "source": [
    "#### Tuples are on ordered sequence"
   ]
  },
  {
   "cell_type": "markdown",
   "id": "493af8c4-47f6-4f1e-b822-b786d7be4ed8",
   "metadata": {},
   "source": [
    "#### Tuples are written a as comma separated elements within parentheses"
   ]
  },
  {
   "cell_type": "code",
   "execution_count": 4,
   "id": "46fb14a2-3313-4264-b738-f40e6de2bbf7",
   "metadata": {},
   "outputs": [
    {
     "name": "stdout",
     "output_type": "stream",
     "text": [
      "(10, 34, 56, 77, 'mt', 1.2)\n",
      "<class 'tuple'>\n"
     ]
    }
   ],
   "source": [
    "Ratings = (10,34,56,77,\"mt\",1.2)\n",
    "print(Ratings)\n",
    "print(type(Ratings))"
   ]
  },
  {
   "cell_type": "code",
   "execution_count": 7,
   "id": "3789497c-fa76-4db9-ab57-91f69674abff",
   "metadata": {},
   "outputs": [
    {
     "name": "stdout",
     "output_type": "stream",
     "text": [
      "77\n",
      "(10, 34, 56, 77)\n",
      "(12, 5, 4.6)\n",
      "(5, 'y', 4.6)\n"
     ]
    }
   ],
   "source": [
    "tuple1=(10,34,56,77,\"mt\",1.2)\n",
    "tuple2 = (12,4,5,\"y\",4.60)\n",
    "print(tuple1[3])# Access items through index\n",
    "print(tuple1[0:4]) # 0 is starting index and 4 is n-1.means 4-1 = 3rd index\n",
    "print(tuple2[::2]) # it jump each second items from starting 0 index\n",
    "print(tuple2[2::]) # left first 2 items and then start \n",
    "print(tuple1[-1]) # that is start from last index of tuple\n",
    "\n"
   ]
  },
  {
   "cell_type": "markdown",
   "id": "d32fba04-1a15-4168-8d6e-bb80d18a18e9",
   "metadata": {},
   "source": [
    "### Change tuple into list"
   ]
  },
  {
   "cell_type": "code",
   "execution_count": 1,
   "id": "ae9d59f5-9ca6-48fb-9cb2-a8bd1961f83a",
   "metadata": {},
   "outputs": [
    {
     "name": "stdout",
     "output_type": "stream",
     "text": [
      "[1, 2, 3]\n"
     ]
    }
   ],
   "source": [
    "# Define a tuple\n",
    "my_tuple = (1, 2, 3)\n",
    " \n",
    "# Convert the tuple to a list\n",
    "my_list = list(my_tuple)\n",
    "print(my_list)"
   ]
  },
  {
   "cell_type": "markdown",
   "id": "a93df08b-78b1-449d-973e-663aa51efe6e",
   "metadata": {},
   "source": [
    "### Concatenate Tuples"
   ]
  },
  {
   "cell_type": "code",
   "execution_count": 2,
   "id": "2ef0954d-9350-4d4b-b041-75d9e88a4dc0",
   "metadata": {},
   "outputs": [
    {
     "name": "stdout",
     "output_type": "stream",
     "text": [
      "('avi', 1.2, 3, 4, 5, 6.0)\n"
     ]
    }
   ],
   "source": [
    "tuple_1 = (\"avi\",1.2,3)\n",
    "tuple_2 = tuple_1 + (4,5,6.0)\n",
    "print(tuple_2)"
   ]
  },
  {
   "cell_type": "markdown",
   "id": "34527887-1e25-441e-ab5c-45157ad84d5c",
   "metadata": {},
   "source": [
    "### Nested Tuple"
   ]
  },
  {
   "cell_type": "markdown",
   "id": "5697ae4c-2bd3-4d55-a69e-4d035482a7af",
   "metadata": {},
   "source": [
    "##### A tuple contain another tuple as well as other complex data types"
   ]
  },
  {
   "cell_type": "code",
   "execution_count": 6,
   "id": "1b7db92c-b08d-4e9b-b577-6e3e07e29930",
   "metadata": {},
   "outputs": [
    {
     "name": "stdout",
     "output_type": "stream",
     "text": [
      "(1, 2)\n",
      "2\n",
      "pop\n"
     ]
    }
   ],
   "source": [
    "Nested_tuple =  (1,2,(\"pop\",\"rock\"),(\"disco\",(1,2)))\n",
    "print(Nested_tuple[3][1])\n",
    "print(Nested_tuple[3][1][1])\n",
    "print(Nested_tuple[2][0])"
   ]
  },
  {
   "cell_type": "code",
   "execution_count": null,
   "id": "afafb9af-7326-43e7-a815-09b5f2d13350",
   "metadata": {},
   "outputs": [],
   "source": []
  }
 ],
 "metadata": {
  "kernelspec": {
   "display_name": "Python 3 (ipykernel)",
   "language": "python",
   "name": "python3"
  },
  "language_info": {
   "codemirror_mode": {
    "name": "ipython",
    "version": 3
   },
   "file_extension": ".py",
   "mimetype": "text/x-python",
   "name": "python",
   "nbconvert_exporter": "python",
   "pygments_lexer": "ipython3",
   "version": "3.12.6"
  }
 },
 "nbformat": 4,
 "nbformat_minor": 5
}

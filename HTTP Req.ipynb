{
 "cells": [
  {
   "cell_type": "markdown",
   "id": "775ce4cd-0f1e-450d-9e06-381a32ff6ad2",
   "metadata": {},
   "source": [
    " # HTTP and Request"
   ]
  },
  {
   "cell_type": "markdown",
   "id": "9fceca73-07da-4dab-b314-25e2e963fd0d",
   "metadata": {},
   "source": [
    "#### Overview of HTTP"
   ]
  },
  {
   "cell_type": "markdown",
   "id": "f65dc0a5-39ed-4ed9-a8c5-d5f120ab8da2",
   "metadata": {},
   "source": [
    "When you, the  __client__, use a web page your browser sends an __HTTP__ request to the __server__ where the page is hosted. The server tries to find the desired __resource__ by default \"index.html\". If your request is successful, the server will send the object to the client in an __HTTP response__. This includes information like the type of the __resource__, the length of the __resource__, and other information.\n"
   ]
  },
  {
   "cell_type": "markdown",
   "id": "ba6ee3c5-222f-4dd4-9f94-e11d4d26578c",
   "metadata": {},
   "source": [
    "The figure below represents the process. The circle on the left represents the client, the circle on the right represents the Web server. The table under the Web server represents a list of resources stored in the web server. In this case an HTML file, png image, and txt file .\n",
    "\n",
    "The HTTP protocol allows you to send and receive information through the web including webpages, images, and other web resources. In this lab, we will provide an overview of the Requests library for interacting with the HTTP protocol."
   ]
  },
  {
   "cell_type": "markdown",
   "id": "eefd8a7f-2240-422d-aea9-2f9ae8fe3bbd",
   "metadata": {},
   "source": [
    "### Uniform Resource Locator:URL"
   ]
  },
  {
   "cell_type": "markdown",
   "id": "d406014f-4942-4ded-995c-70f9f1b2b56c",
   "metadata": {},
   "source": [
    "* Scheme:- This is this protocol, for this lab it will always be __http://__"
   ]
  },
  {
   "cell_type": "markdown",
   "id": "c126cb40-f1be-4934-a20c-2c778093b6e7",
   "metadata": {},
   "source": [
    "* Internet address or Base URL :- This will be used to find the location here are some examples: www.ibm.com and  www.gitlab.com "
   ]
  },
  {
   "cell_type": "markdown",
   "id": "4b15f1d4-5310-4b45-82df-a0ba2766b9d4",
   "metadata": {},
   "source": [
    "* Route:- Location on the web server for example: /images/IDSNlogo.png"
   ]
  },
  {
   "cell_type": "markdown",
   "id": "23c2d901-5763-44b9-8315-30a49e31649a",
   "metadata": {},
   "source": [
    "You may also hear the term Uniform Resource Identifier (URI), URL are actually a subset of URIs. Another popular term is endpoint, this is the URL of an operation provided by a Web server"
   ]
  },
  {
   "cell_type": "markdown",
   "id": "3b98c66b-69f0-4764-8d0b-eb0f78e9b880",
   "metadata": {},
   "source": [
    "### Request"
   ]
  },
  {
   "cell_type": "markdown",
   "id": "e1db3bb1-c0bb-438a-abf3-37f58a3c0ed3",
   "metadata": {},
   "source": [
    "The process can be broken into the Request and Response process. The request using the get method is partially illustrated below. In the start line we have the __GET__ method, this is an __HTTP__ method. Also the location of the resource __/index.html__ and the __HTTP__ version. The Request header passes additional information with an __HTTP__ request:"
   ]
  },
  {
   "cell_type": "markdown",
   "id": "8194b459-6a78-4d4a-a024-7a661d7695d2",
   "metadata": {},
   "source": [
    "When an HTTP request is made, an HTTP method is sent, this tells the server what action to perform. A list of several __HTTP__ methods is shown below. We will go over more examples later."
   ]
  },
  {
   "cell_type": "markdown",
   "id": "7f8854ad-101e-4f8c-8287-cabe6be04b4c",
   "metadata": {},
   "source": [
    "### Requests in Python"
   ]
  },
  {
   "cell_type": "markdown",
   "id": "df95c860-6d94-487e-8dbb-824f042711ee",
   "metadata": {},
   "source": [
    "Requests is a Python Library that allows you to send HTTP/1.1 requests easily. We can import the library as follows:"
   ]
  },
  {
   "cell_type": "code",
   "execution_count": 9,
   "id": "9a79b415-3f2c-4462-8ba1-1d74a9a74f39",
   "metadata": {},
   "outputs": [
    {
     "data": {
      "text/plain": [
       "<Response [200]>"
      ]
     },
     "execution_count": 9,
     "metadata": {},
     "output_type": "execute_result"
    }
   ],
   "source": [
    "import requests\n",
    "url='https://www.ibm.com/'\n",
    "r=requests.get(url) \n",
    "r"
   ]
  },
  {
   "cell_type": "markdown",
   "id": "4f97e9c9-740c-457a-8eea-c653522beae9",
   "metadata": {},
   "source": [
    "We have the response object r, this has information about the request, like the status of the request. We can view the status code using the attribute __status_code__"
   ]
  },
  {
   "cell_type": "code",
   "execution_count": 3,
   "id": "3bb5de57-883a-41a3-82b6-9c6846363143",
   "metadata": {},
   "outputs": [
    {
     "data": {
      "text/plain": [
       "200"
      ]
     },
     "execution_count": 3,
     "metadata": {},
     "output_type": "execute_result"
    }
   ],
   "source": [
    "r.status_code"
   ]
  },
  {
   "cell_type": "markdown",
   "id": "d616a04f-9e7c-4855-9867-dd2d46f312df",
   "metadata": {},
   "source": [
    "You can view the request body, in the following line, as there is no body for a get request we get a __None__:\n"
   ]
  },
  {
   "cell_type": "code",
   "execution_count": 10,
   "id": "f5ef8d77-5129-48b1-9d05-c2506a65bc38",
   "metadata": {},
   "outputs": [
    {
     "name": "stdout",
     "output_type": "stream",
     "text": [
      "request body: None\n"
     ]
    }
   ],
   "source": [
    "print(\"request body:\",r.request.body)"
   ]
  },
  {
   "cell_type": "markdown",
   "id": "5e5902d6-a724-41b4-8bb9-a9ac9681ed88",
   "metadata": {},
   "source": [
    "You can view the HTTP response header using the attribute headers. This returns a python dictionary of HTTP response headers."
   ]
  },
  {
   "cell_type": "code",
   "execution_count": 11,
   "id": "39579fac-46e4-4745-84d5-41f59eaa1411",
   "metadata": {},
   "outputs": [
    {
     "name": "stdout",
     "output_type": "stream",
     "text": [
      "{'Content-Security-Policy': 'upgrade-insecure-requests', 'x-frame-options': 'SAMEORIGIN', 'Last-Modified': 'Fri, 08 Nov 2024 18:06:04 GMT', 'ETag': 'W/\"29e0b-6266a9ab6051e-gzip\"', 'Accept-Ranges': 'bytes', 'Content-Type': 'text/html;charset=utf-8', 'X-Content-Type-Options': 'nosniff', 'Cache-Control': 'max-age=600', 'Expires': 'Fri, 08 Nov 2024 18:19:49 GMT', 'X-Akamai-Transformed': '9 27579 0 pmb=mTOE,2', 'Content-Encoding': 'gzip', 'Date': 'Fri, 08 Nov 2024 18:09:49 GMT', 'Content-Length': '27792', 'Connection': 'keep-alive', 'Vary': 'Accept-Encoding', 'Strict-Transport-Security': 'max-age=31536000'}\n"
     ]
    }
   ],
   "source": [
    "header = r.headers\n",
    "print(r.headers)"
   ]
  },
  {
   "cell_type": "markdown",
   "id": "76813ba5-0b97-42e4-9bf3-2b020586b560",
   "metadata": {},
   "source": [
    "We can obtain the date the request was sent using the key Date."
   ]
  },
  {
   "cell_type": "code",
   "execution_count": 12,
   "id": "e82bde4d-21c3-4b90-a6cf-bb79402920f0",
   "metadata": {},
   "outputs": [
    {
     "data": {
      "text/plain": [
       "'Fri, 08 Nov 2024 18:09:49 GMT'"
      ]
     },
     "execution_count": 12,
     "metadata": {},
     "output_type": "execute_result"
    }
   ],
   "source": [
    "header['Date']"
   ]
  },
  {
   "cell_type": "markdown",
   "id": "1d11a860-bf57-4a5f-ab88-16ede8fbb6e0",
   "metadata": {},
   "source": [
    "__Content__ - Type indicates the type of data:"
   ]
  },
  {
   "cell_type": "code",
   "execution_count": 17,
   "id": "24c49293-6740-4732-8f04-54962718a20e",
   "metadata": {},
   "outputs": [
    {
     "data": {
      "text/plain": [
       "'text/html;charset=utf-8'"
      ]
     },
     "execution_count": 17,
     "metadata": {},
     "output_type": "execute_result"
    }
   ],
   "source": [
    "header['content-Type']"
   ]
  },
  {
   "cell_type": "markdown",
   "id": "5af7b3ac-bb8a-48f5-871b-1b528635cb44",
   "metadata": {},
   "source": [
    "You can also check the __encoding__:"
   ]
  },
  {
   "cell_type": "code",
   "execution_count": 18,
   "id": "d7cc502d-df36-44ac-9709-755f39046fe8",
   "metadata": {},
   "outputs": [
    {
     "data": {
      "text/plain": [
       "'utf-8'"
      ]
     },
     "execution_count": 18,
     "metadata": {},
     "output_type": "execute_result"
    }
   ],
   "source": [
    "r.encoding"
   ]
  },
  {
   "cell_type": "markdown",
   "id": "25a48cf8-ed53-4069-8f29-e8223dbf4b64",
   "metadata": {},
   "source": [
    "As the Content-Type is text/html we can use the attribute text to display the HTML in the body. We can review the first 100 characters:"
   ]
  },
  {
   "cell_type": "code",
   "execution_count": 19,
   "id": "cac14f46-3cb6-4baf-b36e-c39dc65e0adc",
   "metadata": {},
   "outputs": [
    {
     "data": {
      "text/plain": [
       "'\\n<!DOCTYPE HTML>\\n<html lang=\"en\">\\n<head>\\r\\n    \\r\\n    \\r\\n    \\r\\n    \\r\\n    \\r\\n    \\r\\n    \\r\\n    \\r\\n    \\r\\n    '"
      ]
     },
     "execution_count": 19,
     "metadata": {},
     "output_type": "execute_result"
    }
   ],
   "source": [
    "r.text[0:100]"
   ]
  },
  {
   "cell_type": "markdown",
   "id": "35fd60cf-7818-4a7d-a051-b2ceef89df0b",
   "metadata": {},
   "source": [
    "You can load other types of data for non-text requests, like images. Consider the URL of the following image:"
   ]
  },
  {
   "cell_type": "code",
   "execution_count": null,
   "id": "b9977ead-f3c2-4ebb-9363-4cea842fc4d3",
   "metadata": {},
   "outputs": [],
   "source": [
    "# Use single quotation marks for defining string\n",
    "url='https://cf-courses-data.s3.us.cloud-object-storage.appdomain.cloud/IBMDeveloperSkillsNetwork-PY0101EN-SkillsNetwork/IDSNlogo.png'"
   ]
  },
  {
   "cell_type": "code",
   "execution_count": 23,
   "id": "81b74de7-f986-49b6-920f-f83760c68b5c",
   "metadata": {},
   "outputs": [
    {
     "data": {
      "text/plain": [
       "<Response [200]>"
      ]
     },
     "execution_count": 23,
     "metadata": {},
     "output_type": "execute_result"
    }
   ],
   "source": [
    " \n",
    "r=requests.get(url)\n",
    "r"
   ]
  },
  {
   "cell_type": "code",
   "execution_count": 25,
   "id": "3766029d-619e-4ba2-b4f6-88a0a10fdd94",
   "metadata": {},
   "outputs": [
    {
     "name": "stdout",
     "output_type": "stream",
     "text": [
      "{'Content-Security-Policy': 'upgrade-insecure-requests', 'x-frame-options': 'SAMEORIGIN', 'Last-Modified': 'Fri, 08 Nov 2024 18:13:09 GMT', 'ETag': 'W/\"29e0b-6266ab40c9f44-gzip\"', 'Accept-Ranges': 'bytes', 'Content-Type': 'text/html;charset=utf-8', 'X-Content-Type-Options': 'nosniff', 'Cache-Control': 'max-age=600', 'Expires': 'Fri, 08 Nov 2024 18:27:39 GMT', 'X-Akamai-Transformed': '9 27579 0 pmb=mTOE,2', 'Content-Encoding': 'gzip', 'Date': 'Fri, 08 Nov 2024 18:17:39 GMT', 'Content-Length': '27792', 'Connection': 'keep-alive', 'Vary': 'Accept-Encoding', 'Strict-Transport-Security': 'max-age=31536000'}\n"
     ]
    }
   ],
   "source": [
    "print(r.headers)"
   ]
  },
  {
   "cell_type": "code",
   "execution_count": 26,
   "id": "50b10096-e5ed-4472-b1d6-c4c61b3d2598",
   "metadata": {},
   "outputs": [
    {
     "data": {
      "text/plain": [
       "'text/html;charset=utf-8'"
      ]
     },
     "execution_count": 26,
     "metadata": {},
     "output_type": "execute_result"
    }
   ],
   "source": [
    "r.headers['content-Type']"
   ]
  },
  {
   "cell_type": "markdown",
   "id": "b2a92c55-2a24-475c-8b34-665ac591e29e",
   "metadata": {},
   "source": [
    "An image is a response object that contains the image as a bytes-like object. As a result, we must save it using a file object. First, we specify the file path and nam"
   ]
  },
  {
   "cell_type": "code",
   "execution_count": 27,
   "id": "d96193c3-d32c-49e1-a3f9-36e659b7dfab",
   "metadata": {},
   "outputs": [
    {
     "ename": "NameError",
     "evalue": "name 'os' is not defined",
     "output_type": "error",
     "traceback": [
      "\u001b[1;31m---------------------------------------------------------------------------\u001b[0m",
      "\u001b[1;31mNameError\u001b[0m                                 Traceback (most recent call last)",
      "Cell \u001b[1;32mIn[27], line 1\u001b[0m\n\u001b[1;32m----> 1\u001b[0m path\u001b[38;5;241m=\u001b[39m\u001b[43mos\u001b[49m\u001b[38;5;241m.\u001b[39mpath\u001b[38;5;241m.\u001b[39mjoin(os\u001b[38;5;241m.\u001b[39mgetcwd(),\u001b[38;5;124m'\u001b[39m\u001b[38;5;124mimage.png\u001b[39m\u001b[38;5;124m'\u001b[39m)\n",
      "\u001b[1;31mNameError\u001b[0m: name 'os' is not defined"
     ]
    }
   ],
   "source": [
    "path=os.path.join(os.getcwd(),'image.png')"
   ]
  },
  {
   "cell_type": "markdown",
   "id": "df128099-245b-4b03-8dde-6dbd783189ee",
   "metadata": {},
   "source": [
    "We save the file, in order to access the body of the response we use the attribute content then save it using the open function and write method:"
   ]
  },
  {
   "cell_type": "code",
   "execution_count": 29,
   "id": "a34f9408-a331-4209-ba33-10054376c148",
   "metadata": {},
   "outputs": [
    {
     "ename": "NameError",
     "evalue": "name 'path' is not defined",
     "output_type": "error",
     "traceback": [
      "\u001b[1;31m---------------------------------------------------------------------------\u001b[0m",
      "\u001b[1;31mNameError\u001b[0m                                 Traceback (most recent call last)",
      "Cell \u001b[1;32mIn[29], line 1\u001b[0m\n\u001b[1;32m----> 1\u001b[0m \u001b[38;5;28;01mwith\u001b[39;00m \u001b[38;5;28mopen\u001b[39m(\u001b[43mpath\u001b[49m,\u001b[38;5;124m'\u001b[39m\u001b[38;5;124mwb\u001b[39m\u001b[38;5;124m'\u001b[39m) \u001b[38;5;28;01mas\u001b[39;00m f:\n\u001b[0;32m      2\u001b[0m     f\u001b[38;5;241m.\u001b[39mwrite(r\u001b[38;5;241m.\u001b[39mcontent)\n",
      "\u001b[1;31mNameError\u001b[0m: name 'path' is not defined"
     ]
    }
   ],
   "source": [
    "with open(path,'wb') as f:\n",
    "    f.write(r.content)"
   ]
  },
  {
   "cell_type": "markdown",
   "id": "ae00b510-98c7-4544-8da6-5de2635d34fa",
   "metadata": {},
   "source": [
    "We can view the __image__"
   ]
  },
  {
   "cell_type": "code",
   "execution_count": 28,
   "id": "80d086f8-c941-40ce-be06-92e671289812",
   "metadata": {},
   "outputs": [
    {
     "ename": "NameError",
     "evalue": "name 'Image' is not defined",
     "output_type": "error",
     "traceback": [
      "\u001b[1;31m---------------------------------------------------------------------------\u001b[0m",
      "\u001b[1;31mNameError\u001b[0m                                 Traceback (most recent call last)",
      "Cell \u001b[1;32mIn[28], line 1\u001b[0m\n\u001b[1;32m----> 1\u001b[0m \u001b[43mImage\u001b[49m\u001b[38;5;241m.\u001b[39mopen(path)\n",
      "\u001b[1;31mNameError\u001b[0m: name 'Image' is not defined"
     ]
    }
   ],
   "source": [
    "Image.open(path)"
   ]
  },
  {
   "cell_type": "markdown",
   "id": "4178bbc9-caa4-45ce-ad2e-69e7da339920",
   "metadata": {},
   "source": [
    "### Get Request with URL Parameters"
   ]
  },
  {
   "cell_type": "markdown",
   "id": "77bd5164-05c3-4ae9-acde-104953366cec",
   "metadata": {},
   "source": [
    "You can use the GET method to modify the results of your query, for example retrieving data from an API. We send a GET request to the server. Like before we have the Base URL, in the Route we append /get, this indicates we would like to preform a GET request.\n",
    "\n",
    "The Base URL is for http://httpbin.org/ is a simple HTTP Request & Response Service. The URL in Python is given by"
   ]
  },
  {
   "cell_type": "code",
   "execution_count": null,
   "id": "e14ecad3-aa7e-4089-b70f-706c50d9be3b",
   "metadata": {},
   "outputs": [],
   "source": [
    "url_get='http://httpbin.org/get'"
   ]
  },
  {
   "cell_type": "markdown",
   "id": "b3373e36-00f6-4797-9d5c-ce19f63d3ea7",
   "metadata": {},
   "source": [
    "A query string is a part of a uniform resource locator (URL), this sends other information to the web server. The start of the query is a ?, followed by a series of parameter and value pairs, as shown in the table below. The first parameter name is name and the value is Joseph. The second parameter name is ID and the Value is 123. Each pair, parameter, and value is separated by an equals sign, =. The series of pairs is separated by the ampersand &."
   ]
  },
  {
   "cell_type": "markdown",
   "id": "eaabac1f-dd52-48c2-9dcc-87910d978b1a",
   "metadata": {},
   "source": [
    "### Post Requests"
   ]
  },
  {
   "cell_type": "markdown",
   "id": "6febe569-caa3-4827-9407-8c6b88d5ea09",
   "metadata": {},
   "source": [
    "Like a GET request, a POST is used to send data to a server, but the POST request sends the data in a request body. In order to send the Post Request in Python, in the URL we change the route to POST:"
   ]
  },
  {
   "cell_type": "code",
   "execution_count": null,
   "id": "642d5dbe-a656-4448-8c01-9db3e6090445",
   "metadata": {},
   "outputs": [],
   "source": [
    "url_post='http://httpbin.org/post'"
   ]
  },
  {
   "cell_type": "markdown",
   "id": "9b6f3307-79ca-4555-a3d7-d23885630ebb",
   "metadata": {},
   "source": [
    "This endpoint will expect data as a file or as a form. A form is convenient way to configure an HTTP request to send data to a server."
   ]
  },
  {
   "cell_type": "markdown",
   "id": "cf3aeac4-f855-4671-8721-777ced9a141f",
   "metadata": {},
   "source": [
    "To make a POST request we use the __post()__ function, the variable payload is passed to the parameter  data :"
   ]
  },
  {
   "cell_type": "code",
   "execution_count": null,
   "id": "e0fd6fc7-f20b-43c4-818d-c78a12668f68",
   "metadata": {},
   "outputs": [],
   "source": [
    "r_post=requests.post(url_post,data=payload)"
   ]
  },
  {
   "cell_type": "markdown",
   "id": "2ee86f73-98e4-4c8d-9df8-de496dccd843",
   "metadata": {},
   "source": [
    "We can compare the __POST__ and __GET__ request body, we see only the POST request has a body:"
   ]
  },
  {
   "cell_type": "code",
   "execution_count": null,
   "id": "510cce84-a141-4d9f-81da-fbdb2143c5ee",
   "metadata": {},
   "outputs": [],
   "source": [
    "print(\"POST request body:\",r_post.request.body)\n",
    "print(\"GET request body:\",r.request.body)"
   ]
  },
  {
   "cell_type": "code",
   "execution_count": null,
   "id": "6bf7dc43-7b5c-4fbf-b426-5a8d7be9e0d1",
   "metadata": {},
   "outputs": [],
   "source": []
  }
 ],
 "metadata": {
  "kernelspec": {
   "display_name": "Python 3 (ipykernel)",
   "language": "python",
   "name": "python3"
  },
  "language_info": {
   "codemirror_mode": {
    "name": "ipython",
    "version": 3
   },
   "file_extension": ".py",
   "mimetype": "text/x-python",
   "name": "python",
   "nbconvert_exporter": "python",
   "pygments_lexer": "ipython3",
   "version": "3.12.6"
  }
 },
 "nbformat": 4,
 "nbformat_minor": 5
}

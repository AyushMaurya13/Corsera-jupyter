{
 "cells": [
  {
   "cell_type": "markdown",
   "id": "d17923f4-63bf-4872-8f1c-f96f18fab0ba",
   "metadata": {},
   "source": [
    "# String Operation "
   ]
  },
  {
   "cell_type": "markdown",
   "id": "4899b3e5-7280-4585-8f59-296fccde605f",
   "metadata": {},
   "source": [
    "#### What are Strings?"
   ]
  },
  {
   "cell_type": "markdown",
   "id": "399e960e-ae1d-41ff-9731-bf253df8ec9d",
   "metadata": {},
   "source": [
    "String is text which written withine Double (\" \") or Single quote (\" \")\n",
    "IN  these double or single qoute anything is cosider as string"
   ]
  },
  {
   "cell_type": "code",
   "execution_count": 3,
   "id": "151da81b-e6ff-4cda-8632-d0076439b69d",
   "metadata": {},
   "outputs": [
    {
     "name": "stdout",
     "output_type": "stream",
     "text": [
      "My Name\n"
     ]
    }
   ],
   "source": [
    "string_1 = \"My Name\"\n",
    "print(string_1)"
   ]
  },
  {
   "cell_type": "code",
   "execution_count": 4,
   "id": "deaefbfa-9f5e-4b12-852d-daedc1043554",
   "metadata": {},
   "outputs": [
    {
     "name": "stdout",
     "output_type": "stream",
     "text": [
      "1234\n"
     ]
    }
   ],
   "source": [
    "string_2 = \"1234\"# same as for float\n",
    "print(string_2)"
   ]
  },
  {
   "cell_type": "code",
   "execution_count": 5,
   "id": "6086c768-567c-4877-be6e-d79c45963012",
   "metadata": {},
   "outputs": [
    {
     "name": "stdout",
     "output_type": "stream",
     "text": [
      "True\n"
     ]
    }
   ],
   "source": [
    "string_3 = \"True\"\n",
    "print(string_3)"
   ]
  },
  {
   "cell_type": "markdown",
   "id": "31474a84-1268-4439-8c00-41ad97850c04",
   "metadata": {},
   "source": [
    "### Indexing"
   ]
  },
  {
   "cell_type": "code",
   "execution_count": 10,
   "id": "0c5b3b1b-50e3-4e77-82c7-ce453f646c58",
   "metadata": {},
   "outputs": [
    {
     "name": "stdout",
     "output_type": "stream",
     "text": [
      "N\n"
     ]
    }
   ],
   "source": [
    "name = \"My_Name\"\n",
    "print(name[3])# positive indexing \n",
    "print(name[-1]) # negative indexing"
   ]
  },
  {
   "cell_type": "code",
   "execution_count": 15,
   "id": "d68a7836-3de0-41bf-ae69-b05184f1e445",
   "metadata": {},
   "outputs": [
    {
     "name": "stdout",
     "output_type": "stream",
     "text": [
      "7\n"
     ]
    }
   ],
   "source": [
    "name = \"My_Name\"\n",
    "print(len(name))"
   ]
  },
  {
   "cell_type": "markdown",
   "id": "8a4082fb-2ebd-4d96-9bcd-2c3d752cf81b",
   "metadata": {},
   "source": [
    "### Slice "
   ]
  },
  {
   "cell_type": "code",
   "execution_count": 18,
   "id": "36f84c31-d3ca-40ea-8845-f73e8d34c598",
   "metadata": {},
   "outputs": [
    {
     "name": "stdout",
     "output_type": "stream",
     "text": [
      "y_n\n",
      "My_\n"
     ]
    }
   ],
   "source": [
    "name = \"My_name\"\n",
    "print(name[1:4])\n",
    "print(name[0:3])"
   ]
  },
  {
   "cell_type": "markdown",
   "id": "e9dfd130-b3ea-4dd5-9984-a84bba980b37",
   "metadata": {},
   "source": [
    "### Stride"
   ]
  },
  {
   "cell_type": "code",
   "execution_count": 21,
   "id": "d4f54033-ff31-4384-9912-10a8ec24262a",
   "metadata": {},
   "outputs": [
    {
     "name": "stdout",
     "output_type": "stream",
     "text": [
      "M_ae\n",
      "M_a\n"
     ]
    }
   ],
   "source": [
    "name = \"My_name\"\n",
    "print(name[::2])\n",
    "print(name[0:5:2])"
   ]
  },
  {
   "cell_type": "markdown",
   "id": "03e0e60d-0ae4-4325-9cab-749f221a5d42",
   "metadata": {},
   "source": [
    "### Concatenate String"
   ]
  },
  {
   "cell_type": "code",
   "execution_count": 22,
   "id": "edc19efb-897a-4ce0-86bf-2d4eb9bfe189",
   "metadata": {},
   "outputs": [
    {
     "name": "stdout",
     "output_type": "stream",
     "text": [
      "John Is the best\n"
     ]
    }
   ],
   "source": [
    "Statement_1 = \"John \"\n",
    "statement_2 = Statement_1 + \"Is the best\"\n",
    "print(statement_2)"
   ]
  },
  {
   "cell_type": "code",
   "execution_count": 23,
   "id": "8fefb3a5-f8c1-4128-b402-59c9de1c9ac0",
   "metadata": {},
   "outputs": [
    {
     "name": "stdout",
     "output_type": "stream",
     "text": [
      "NameNameName\n"
     ]
    }
   ],
   "source": [
    "print((3*\"Name\") "
   ]
  },
  {
   "cell_type": "markdown",
   "id": "8c042a7a-6a97-49a7-bb3c-6c98d8661680",
   "metadata": {},
   "source": [
    "### Escape Sequences"
   ]
  },
  {
   "cell_type": "code",
   "execution_count": 24,
   "id": "77740b96-4850-4f6b-89f2-5384be277ae0",
   "metadata": {},
   "outputs": [
    {
     "name": "stdout",
     "output_type": "stream",
     "text": [
      "my name is \n",
      " John\n"
     ]
    }
   ],
   "source": [
    "print(\"my name is \\n John\")"
   ]
  },
  {
   "cell_type": "code",
   "execution_count": 25,
   "id": "3cefc8a1-dc3e-4cb8-bd6b-90b411664d62",
   "metadata": {},
   "outputs": [
    {
     "name": "stdout",
     "output_type": "stream",
     "text": [
      "my name is \t john\n"
     ]
    }
   ],
   "source": [
    "print(\"my name is \\t john\")"
   ]
  },
  {
   "cell_type": "code",
   "execution_count": 26,
   "id": "5c9be502-b1c8-4524-b174-bb0a5228da67",
   "metadata": {},
   "outputs": [
    {
     "name": "stdout",
     "output_type": "stream",
     "text": [
      " Michael Jackson \\ is the best\n"
     ]
    }
   ],
   "source": [
    "# Include back slash in string\n",
    "\n",
    "print(\" Michael Jackson \\\\ is the best\" )"
   ]
  },
  {
   "cell_type": "code",
   "execution_count": 27,
   "id": "54634028-d59c-404a-9823-cc5c0902e1eb",
   "metadata": {},
   "outputs": [
    {
     "name": "stdout",
     "output_type": "stream",
     "text": [
      " Michael Jackson \\ is the best\n"
     ]
    }
   ],
   "source": [
    "# r will tell python that string will be display as raw string\n",
    "\n",
    "print(r\" Michael Jackson \\ is the best\" )"
   ]
  },
  {
   "cell_type": "markdown",
   "id": "3dfdf165-e08c-4b46-b107-b2fc4cd26ea0",
   "metadata": {},
   "source": [
    "String Manipulation Operations"
   ]
  }
 ],
 "metadata": {
  "kernelspec": {
   "display_name": "Python 3 (ipykernel)",
   "language": "python",
   "name": "python3"
  },
  "language_info": {
   "codemirror_mode": {
    "name": "ipython",
    "version": 3
   },
   "file_extension": ".py",
   "mimetype": "text/x-python",
   "name": "python",
   "nbconvert_exporter": "python",
   "pygments_lexer": "ipython3",
   "version": "3.12.6"
  }
 },
 "nbformat": 4,
 "nbformat_minor": 5
}
